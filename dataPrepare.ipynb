{
 "cells": [
  {
   "cell_type": "code",
   "execution_count": 1,
   "metadata": {},
   "outputs": [
    {
     "output_type": "stream",
     "name": "stderr",
     "text": "Using TensorFlow backend.\n"
    }
   ],
   "source": [
    "from data import *"
   ]
  },
  {
   "cell_type": "markdown",
   "metadata": {},
   "source": [
    "# Data Augmentasi\n",
    "\n",
    "Pembuatan data augmentasi menggunakan library **keras.preprocessing.image.ImageDataGenerator** yang bisa menggabungkan Deep Neural Network image dan label secara bersamaan."
   ]
  },
  {
   "cell_type": "markdown",
   "metadata": {},
   "source": [
    "## Tentukan parameter data generator\n",
    "Gunakan parameter dengan metode random dictionary seperti dibawah ini."
   ]
  },
  {
   "cell_type": "code",
   "execution_count": 2,
   "metadata": {},
   "outputs": [],
   "source": [
    "data_gen_args = dict(rotation_range = 0.05,\n",
    "                    width_shift_range = 0.01,\n",
    "                    height_shift_range = 0.01,\n",
    "                    shear_range = 0.05,\n",
    "                    zoom_range = 0.05,\n",
    "                    horizontal_flip = True,\n",
    "                    fill_mode = 'nearest')\n",
    "myGenerator = trainGenerator(600, 'data/train', 'image', 'label', data_gen_args, save_to_dir = \"data/train/aug\")"
   ]
  },
  {
   "cell_type": "markdown",
   "metadata": {},
   "source": [
    "## Membuat data augmentasi ke folder **'data/train/aug/'**"
   ]
  },
  {
   "cell_type": "code",
   "execution_count": 3,
   "metadata": {},
   "outputs": [
    {
     "name": "stdout",
     "output_type": "stream",
     "text": "Found 600 images belonging to 1 classes.\nFound 600 images belonging to 1 classes.\n0\n1\n"
    }
   ],
   "source": [
    "num_batch = 2\n",
    "for i, batch in enumerate(myGenerator):\n",
    "    print(i)\n",
    "    if(i>=(num_batch-1)):\n",
    "        break"
   ]
  },
  {
   "cell_type": "markdown",
   "metadata": {},
   "source": [
    "## Membuat .npy data (data augmentasi yang sudah dikompres)\n",
    "Butuh memori tambahan untuk menyimpan data ini"
   ]
  },
  {
   "cell_type": "code",
   "execution_count": 4,
   "metadata": {},
   "outputs": [],
   "source": [
    "image_arr,mask_arr = geneTrainNpy(\"data/train/aug/\",\"data/train/aug/\")\n",
    "np.save(\"data/image_arr.npy\",image_arr)\n",
    "np.save(\"data/mask_arr.npy\",mask_arr)"
   ]
  },
  {
   "cell_type": "markdown",
   "metadata": {},
   "source": [
    "## Masking Test Data"
   ]
  },
  {
   "cell_type": "code",
   "execution_count": 37,
   "metadata": {},
   "outputs": [],
   "source": [
    "def masking(img, mask, height=432, width=532, color = yellow):\n",
    "    '''.'''\n",
    "    #mask_out = np.zeros((512, 470, 3), dtype = 'uint8') #phantom\n",
    "    mask_out = np.zeros((height, width, 3), dtype = 'uint8') #GE\n",
    "    img = cv2.cvtColor(img, cv2.COLOR_GRAY2BGR) #np.zeros((height, width, 3), dtype = 'uint8') kalau shapenya (432,532) atau grayscale \n",
    "    for i in range(mask.shape[0]-1):\n",
    "        for j in range(mask.shape[1]-1):\n",
    "            if (mask[i,j] >= 30):\n",
    "                mask_out[i,j,:] = mask[i,j] \n",
    "                mask_out[i,j,:] = color\n",
    "                img[i,j,:] = mask_out[i,j,:]\n",
    "    segmented = img\n",
    "    return segmented"
   ]
  },
  {
   "cell_type": "code",
   "execution_count": 38,
   "metadata": {},
   "outputs": [
    {
     "output_type": "stream",
     "name": "stdout",
     "text": "Creating... data/test/231_predict.png\nCreating... data/test/232_predict.png\nCreating... data/test/233_predict.png\nCreating... data/test/234_predict.png\nCreating... data/test/235_predict.png\nCreating... data/test/236_predict.png\nCreating... data/test/237_predict.png\n"
    }
   ],
   "source": [
    "import os\n",
    "from os import listdir\n",
    "from skimage import io\n",
    "from IPython.display import clear_output\n",
    "\n",
    "results_path = 'data/test/'\n",
    "results_results = 'results/'\n",
    "list_file = os.listdir(results_path)\n",
    "masked = np.zeros((len(list_file)//2, 432, 532, 3), dtype ='uint8')\n",
    "\n",
    "for i in range(len(list_file)//2):\n",
    "    #masked[i] = masking(np.zeros((432, 532, 3), dtype = 'uint8'), io.imread(results_path+str(i)+'_predict.png'), color = white)\n",
    "    masked[i] = masking(io.imread(results_path+str(i)+'.png'), io.imread(results_path+str(i)+'_predict.png'), color = yellow)\n",
    "    if (i % 10 == 0):\n",
    "        clear_output(wait=True)\n",
    "    else:\n",
    "        print('Creating... ' + results_path+str(i)+'_predict.png')\n",
    "\n",
    "    io.imsave(os.path.join(results_results,\"%d.png\"%i), masked[i])"
   ]
  },
  {
   "cell_type": "markdown",
   "metadata": {},
   "source": [
    "# CARA CONVERT PNG TO MP4"
   ]
  },
  {
   "cell_type": "code",
   "execution_count": null,
   "metadata": {},
   "outputs": [],
   "source": [
    "ffmpeg -r 30 -f image2 -i %d.png -vcodec libx264 -crf 15  -pix_fmt yuv420p test.mp4"
   ]
  },
  {
   "cell_type": "markdown",
   "metadata": {},
   "source": [
    "# CARA MENGGABUNGKAN 2 VIDEO YANG SAMA"
   ]
  },
  {
   "cell_type": "code",
   "execution_count": null,
   "metadata": {},
   "outputs": [],
   "source": [
    "ffmpeg -i Yoga60.avi -i aqua.mp4 -filter_complex \"[0:v]pad=iw*2:ih[int]; [int][1:v]overlay=W/2:0[vid]\" -map \"[vid]\" -c:v libx264 -crf 15 output2.mp4"
   ]
  },
  {
   "cell_type": "code",
   "execution_count": null,
   "metadata": {},
   "outputs": [],
   "source": []
  },
  {
   "cell_type": "markdown",
   "metadata": {},
   "source": [
    "## DICE SIMILARITY COEFFICIENT"
   ]
  },
  {
   "cell_type": "code",
   "execution_count": 28,
   "metadata": {},
   "outputs": [],
   "source": [
    "def dice(im1, im2, empty_score=1.0):\n",
    "    \"\"\"\n",
    "    Computes the Dice coefficient, a measure of set similarity.\n",
    "    Parameters\n",
    "    ----------\n",
    "    im1 : array-like, bool\n",
    "        Any array of arbitrary size. If not boolean, will be converted.\n",
    "    im2 : array-like, bool\n",
    "        Any other array of identical size. If not boolean, will be converted.\n",
    "    Returns\n",
    "    -------\n",
    "    dice : float\n",
    "        Dice coefficient as a float on range [0,1].\n",
    "        Maximum similarity = 1\n",
    "        No similarity = 0\n",
    "        Both are empty (sum eq to zero) = empty_score\n",
    "        \n",
    "    Notes\n",
    "    -----\n",
    "    The order of inputs for `dice` is irrelevant. The result will be\n",
    "    identical if `im1` and `im2` are switched.\n",
    "    \"\"\"\n",
    "    im1 = np.asarray(im1).astype(np.bool)\n",
    "    im2 = np.asarray(im2).astype(np.bool)\n",
    "\n",
    "    if im1.shape != im2.shape:\n",
    "        raise ValueError(\"Shape mismatch: im1 and im2 must have the same shape.\")\n",
    "\n",
    "    im_sum = im1.sum() + im2.sum()\n",
    "    if im_sum == 0:\n",
    "        return empty_score\n",
    "\n",
    "    # Compute Dice coefficient\n",
    "    intersection = np.logical_and(im1, im2)\n",
    "\n",
    "    return 2. * intersection.sum() / im_sum"
   ]
  },
  {
   "cell_type": "code",
   "execution_count": 58,
   "metadata": {},
   "outputs": [
    {
     "output_type": "stream",
     "name": "stdout",
     "text": "0.9349252204703714\n"
    }
   ],
   "source": [
    "import os\n",
    "from os import listdir\n",
    "from skimage import io\n",
    "from IPython.display import clear_output\n",
    "\n",
    "path_predict = './results/'\n",
    "path_acuan = './data/Ground Truth/'\n",
    "\n",
    "list_predict = os.listdir(path_predict)\n",
    "list_acuan = os.listdir(path_acuan)\n",
    "dsc = np.zeros(len(list_predict), dtype = float)\n",
    "temp = 0\n",
    "\n",
    "for i in range(len(list_predict)-1):\n",
    "    img1 = cv2.cvtColor(cv2.imread(path_predict+str(i)+'.png'), cv2.COLOR_RGB2GRAY)\n",
    "    img2 = cv2.cvtColor(cv2.imread(path_acuan+str(i)+'.png'), cv2.COLOR_RGB2GRAY)\n",
    "    dsc[i] = dice(img1, img2)\n",
    "    temp = temp + dsc[i]\n",
    "    #print(dsc[i])\n",
    "hasil = temp/len(list_predict)\n",
    "print(hasil)"
   ]
  },
  {
   "cell_type": "markdown",
   "metadata": {},
   "source": [
    "## JACCARD SIMILARITY COEFFICIENT"
   ]
  },
  {
   "cell_type": "code",
   "execution_count": 59,
   "metadata": {},
   "outputs": [],
   "source": [
    "import numpy as np\n",
    "\n",
    "\n",
    "def jaccard(im1, im2):\n",
    "    \"\"\"\n",
    "    Computes the Jaccard metric, a measure of set similarity.\n",
    "    Parameters\n",
    "    ----------\n",
    "    im1 : array-like, bool\n",
    "        Any array of arbitrary size. If not boolean, will be converted.\n",
    "    im2 : array-like, bool\n",
    "        Any other array of identical size. If not boolean, will be converted.\n",
    "    Returns\n",
    "    -------\n",
    "    jaccard : float\n",
    "        Jaccard metric returned is a float on range [0,1].\n",
    "        Maximum similarity = 1\n",
    "        No similarity = 0\n",
    "    \n",
    "    Notes\n",
    "    -----\n",
    "    The order of inputs for `jaccard` is irrelevant. The result will be\n",
    "    identical if `im1` and `im2` are switched.\n",
    "    \"\"\"\n",
    "    im1 = np.asarray(im1).astype(np.bool)\n",
    "    im2 = np.asarray(im2).astype(np.bool)\n",
    "\n",
    "    if im1.shape != im2.shape:\n",
    "        raise ValueError(\"Shape mismatch: im1 and im2 must have the same shape.\")\n",
    "    \n",
    "    intersection = np.logical_and(im1, im2)\n",
    "\n",
    "    union = np.logical_or(im1, im2)\n",
    "\n",
    "    return intersection.sum() / float(union.sum())"
   ]
  },
  {
   "cell_type": "code",
   "execution_count": 60,
   "metadata": {},
   "outputs": [
    {
     "output_type": "stream",
     "name": "stdout",
     "text": "0.8836660731418027\n"
    }
   ],
   "source": [
    "import os\n",
    "from os import listdir\n",
    "from skimage import io\n",
    "from IPython.display import clear_output\n",
    "\n",
    "path_predict = './results/'\n",
    "path_acuan = './data/Ground Truth/'\n",
    "\n",
    "list_predict = os.listdir(path_predict)\n",
    "list_acuan = os.listdir(path_acuan)\n",
    "dsc = np.zeros(len(list_predict), dtype = float)\n",
    "temp = 0\n",
    "\n",
    "for i in range(len(list_predict)-1):\n",
    "    img1 = cv2.cvtColor(cv2.imread(path_predict+str(i)+'.png'), cv2.COLOR_RGB2GRAY)\n",
    "    img2 = cv2.cvtColor(cv2.imread(path_acuan+str(i)+'.png'), cv2.COLOR_RGB2GRAY)\n",
    "    dsc[i] = jaccard(img1, img2)\n",
    "    temp = temp + dsc[i]\n",
    "    #print(dsc[i])\n",
    "hasil = temp/len(list_predict)\n",
    "print(hasil)"
   ]
  },
  {
   "cell_type": "markdown",
   "metadata": {},
   "source": [
    "## F1-SCORE (Secara penurunan rumus sama seperti DSC)"
   ]
  },
  {
   "cell_type": "code",
   "execution_count": 1,
   "metadata": {},
   "outputs": [
    {
     "output_type": "stream",
     "name": "stdout",
     "text": "0.9947097808421631\n"
    }
   ],
   "source": [
    "import os\n",
    "from os import listdir\n",
    "from skimage import io\n",
    "import cv2\n",
    "from sklearn.metrics import f1_score\n",
    "import numpy as np  \n",
    "\n",
    "path_predict = './results/'\n",
    "path_acuan = './data/Ground Truth/'\n",
    "\n",
    "list_predict = os.listdir(path_predict)\n",
    "list_acuan = os.listdir(path_acuan)\n",
    "newf1 = np.zeros(len(list_predict), dtype = float)\n",
    "temp = 0\n",
    "\n",
    "for i in range(len(list_predict)-1):\n",
    "    ytrue = cv2.cvtColor(cv2.imread(path_predict+str(i)+'.png'), cv2.COLOR_RGB2GRAY).ravel()/255\n",
    "    ypred = cv2.cvtColor(cv2.imread(path_acuan+str(i)+'.png'), cv2.COLOR_RGB2GRAY).ravel()/255\n",
    "    ytrue.astype(int)\n",
    "    ypred.astype(int)\n",
    "    newf1[i] = f1_score(ytrue, ypred, average= 'micro')\n",
    "    temp = temp + newf1[i]\n",
    "    #print(newf1[i])\n",
    "hasil = temp/len(list_predict)\n",
    "print(hasil)"
   ]
  },
  {
   "cell_type": "markdown",
   "metadata": {},
   "source": [
    "## PIXEL DIFFERENCE"
   ]
  },
  {
   "cell_type": "code",
   "execution_count": 33,
   "metadata": {},
   "outputs": [
    {
     "output_type": "stream",
     "name": "stdout",
     "text": "0 8304 3642 0.5614161849710982\n1 8913 3645 0.5910467855940761\n2 8145 3642 0.552854511970534\n3 7305 4347 0.40492813141683776\n4 6519 4821 0.2604693971468017\n5 6159 5268 0.1446663419386264\n6 6144 5316 0.134765625\n7 5949 5574 0.06303580433686334\n8 5643 5541 0.018075491759702286\n9 5679 5478 0.035393555203380875\n10 5952 5493 0.07711693548387097\n11 6147 5631 0.08394338701805759\n12 6105 5871 0.03832923832923833\n13 6486 6090 0.06105457909343201\n14 6318 6078 0.03798670465337132\n15 6666 6123 0.08145814581458145\n16 6339 6129 0.03312825366777094\n17 6552 6150 0.06135531135531135\n18 6714 6024 0.10277033065236818\n19 6525 5970 0.08505747126436781\n20 6240 6117 0.01971153846153846\n21 6327 5952 0.05926979611190138\n22 6396 5667 0.11397748592870544\n23 5823 5406 0.0716125708397733\n24 5955 5319 0.10680100755667506\n25 5937 5316 0.10459828196058615\n26 5919 5280 0.10795742524075012\n27 6135 5553 0.09486552567237164\n28 6126 6348 0.03623898139079334\n29 6057 6177 0.01981178801386825\n30 5691 4722 0.17026884554559832\n31 5325 4704 0.11661971830985915\n32 5052 4131 0.1823040380047506\n33 5433 4164 0.23357261181667588\n34 5685 3987 0.2986807387862797\n35 5796 4875 0.15890269151138717\n36 6054 5421 0.1045589692765114\n37 6015 5523 0.08179551122194513\n38 5991 5520 0.0786179268903355\n39 5877 5718 0.027054619703930576\n40 5133 5451 0.061952074810052604\n41 5433 5376 0.010491441192711209\n42 5196 5370 0.03348729792147806\n43 4905 5235 0.0672782874617737\n44 4977 5016 0.007836045810729355\n45 4983 5085 0.020469596628537028\n46 4635 5049 0.08932038834951456\n47 4485 4509 0.005351170568561873\n48 4047 4605 0.13787991104521868\n49 4287 4503 0.05038488453463961\n50 4497 4437 0.0133422281521014\n51 4410 4620 0.047619047619047616\n52 4335 5007 0.15501730103806227\n53 4917 5028 0.022574740695546065\n54 4662 4932 0.05791505791505792\n55 4629 4842 0.04601425793907971\n56 5322 5130 0.036076662908680945\n57 5487 5844 0.06506287588846364\n58 5502 6132 0.11450381679389313\n59 5415 5721 0.056509695290858725\n60 5826 6222 0.06797116374871266\n61 5394 5484 0.01668520578420467\n62 5550 5658 0.01945945945945946\n63 5235 5373 0.026361031518624643\n64 5046 5262 0.04280618311533888\n65 5040 5199 0.03154761904761905\n66 5313 5154 0.029926595143986448\n67 5364 5049 0.0587248322147651\n68 5637 5373 0.04683342203299627\n69 5010 5202 0.03832335329341317\n70 5268 5109 0.03018223234624146\n71 5319 5082 0.044557247602932885\n72 5418 5283 0.024916943521594685\n73 5778 5118 0.1142263759086189\n74 5712 5328 0.06722689075630252\n75 5559 5481 0.014031300593631947\n76 6540 5727 0.1243119266055046\n77 6303 5808 0.07853403141361257\n78 5691 5898 0.03637322087506589\n79 6018 5985 0.005483549351944167\n80 6081 5655 0.07005426739023186\n81 5523 5367 0.028245518739815317\n82 5640 5328 0.05531914893617021\n83 5376 4704 0.125\n84 5325 5373 0.009014084507042254\n85 5709 5223 0.08512874408828167\n86 5580 5055 0.09408602150537634\n87 5898 3078 0.47812817904374366\n88 5733 4665 0.18628990057561487\n89 5868 5025 0.14366053169734153\n90 5709 3543 0.37940094587493434\n91 6033 5538 0.08204873197414221\n92 6183 5838 0.05579815623483746\n93 6309 5805 0.07988587731811697\n94 5955 5679 0.04634760705289673\n95 6312 5979 0.05275665399239544\n96 6078 5571 0.08341559723593288\n97 5832 5859 0.004629629629629629\n98 6162 5895 0.0433300876338851\n99 5952 5247 0.1184475806451613\n100 5688 6663 0.17141350210970463\n101 5403 5688 0.05274847307051638\n102 5823 5838 0.002575991756826378\n103 6390 5934 0.07136150234741784\n104 5871 6354 0.08226877874297393\n105 6027 6024 0.0004977600796416127\n106 5661 6144 0.08532061473237944\n107 6027 6018 0.0014932802389248383\n108 6270 6192 0.012440191387559809\n109 6240 6279 0.00625\n110 6525 6147 0.057931034482758624\n111 6315 6159 0.02470308788598575\n112 5457 6057 0.10995052226498075\n113 5838 6093 0.04367934224049332\n114 5634 5928 0.05218317358892439\n115 6480 6183 0.04583333333333333\n116 6027 5856 0.028372324539571926\n117 5850 5472 0.06461538461538462\n118 5685 5610 0.013192612137203167\n119 5148 5358 0.04079254079254079\n120 4944 5076 0.02669902912621359\n121 5160 5013 0.028488372093023257\n122 5565 5478 0.015633423180592992\n123 5640 5433 0.036702127659574466\n124 5259 5481 0.042213348545350825\n125 5283 5676 0.07438955139125497\n126 5556 5508 0.008639308855291577\n127 5517 5403 0.02066340402392605\n128 5385 5175 0.03899721448467967\n129 5745 4962 0.13629242819843343\n130 5652 5376 0.04883227176220807\n131 5388 5349 0.007238307349665924\n132 5229 5241 0.002294893861158921\n133 5352 5106 0.04596412556053812\n134 4956 5001 0.009079903147699757\n135 5157 4911 0.0477021524141943\n136 5691 4920 0.13547706905640486\n137 5331 5085 0.04614518851997749\n138 5274 5478 0.038680318543799774\n139 5763 5553 0.03643935450286309\n140 5631 5673 0.007458710708577517\n141 5475 5853 0.06904109589041096\n142 5502 5610 0.019629225736095966\n143 5388 5694 0.05679287305122494\n144 5655 5562 0.016445623342175066\n145 5289 5352 0.01191151446398185\n146 5211 5514 0.05814622913068509\n147 5634 5574 0.010649627263045794\n148 5949 5853 0.016137165910237016\n149 5712 5937 0.03939075630252101\n150 6315 5760 0.08788598574821853\n151 6042 5490 0.0913604766633565\n152 6345 5559 0.12387706855791962\n153 6291 5400 0.14163090128755365\n154 6642 5646 0.14995483288166214\n155 6666 5793 0.13096309630963096\n156 6441 5637 0.1248253376804844\n157 6387 5673 0.11178957256928135\n158 6351 5583 0.1209258384506377\n159 6498 5733 0.11772853185595568\n160 6405 5766 0.09976580796252928\n161 6693 5964 0.10891976692066338\n162 6666 5895 0.11566156615661566\n163 6399 5775 0.09751523675574308\n164 6216 5514 0.11293436293436293\n165 6030 5352 0.11243781094527364\n166 6324 5616 0.11195445920303605\n167 6297 5529 0.12196283944735588\n168 6429 5730 0.10872608492767148\n169 6420 5637 0.12196261682242991\n170 6174 5679 0.08017492711370262\n171 6465 5862 0.09327146171693736\n172 6405 5700 0.11007025761124122\n1736261 5526 0.11739338763775754\n174 6183 5394 0.12760795730228044\n175 5718 5241 0.08342077649527807\n176 5769 4998 0.13364534581383256\n177 5238 4719 0.0990836197021764\n178 5493 4833 0.12015292190060077\n179 5580 4851 0.13064516129032258\n180 5625 4881 0.13226666666666667\n181 5673 4932 0.13061872025383395\n182 5652 4926 0.12845010615711253\n183 5604 4905 0.1247323340471092\n184 5544 4725 0.14772727272727273\n185 5628 4494 0.20149253731343283\n186 5574 3453 0.3805166846071044\n187 5709 2241 0.6074619022595901\n188 5994 3489 0.41791791791791794\n189 6084 3264 0.4635108481262327\n190 6216 4152 0.33204633204633205\n191 6276 3552 0.4340344168260038\n192 6252 4995 0.2010556621880998\n193 6222 5178 0.1677917068466731\n194 6159 5331 0.13443740867023868\n195 6177 5376 0.1296745993200583\n196 6210 5376 0.13429951690821257\n197 6156 5316 0.1364522417153996\n198 6216 5343 0.14044401544401544\n199 6219 5136 0.17414375301495416\n200 6168 4830 0.2169260700389105\n201 6099 4917 0.19380226266601083\n202 6012 4809 0.2000998003992016\n203 6141 4917 0.19931607230092818\n204 6087 4803 0.2109413504189256\n205 6117 5064 0.17214320745463463\n206 6054 5322 0.12091179385530228\n207 5739 5190 0.09566126502875065\n208 5472 4776 0.12719298245614036\n209 5409 4620 0.14586799778147533\n210 5424 4731 0.1277654867256637\n211 5580 4764 0.14623655913978495\n212 5892 5001 0.15122199592668026\n213 5892 4959 0.15835030549898166\n214 5598 4908 0.1232583065380493\n215 5802 5112 0.1189245087900724\n216 5934 5220 0.12032355915065723\n217 5646 5022 0.11052072263549416\n218 5601 5016 0.10444563470808785\n219 5541 4914 0.11315646995127233\n220 5463 4812 0.11916529379461833\n221 5223 4764 0.08788052843193567\n222 5325 4695 0.11830985915492957\n223 5340 4698 0.12022471910112359\n224 5373 4710 0.12339475153545505\n225 5364 4707 0.12248322147651007\n226 5427 4773 0.1205085682697623\n227 5442 4827 0.11300992282249173\n228 5538 4911 0.11321776814734562\n229 5532 4932 0.10845986984815618\n230 5505 4905 0.10899182561307902\n231 5508 4896 0.1111111111111111\n232 5361 4734 0.11695579182988249\n233 5211 4605 0.11629245826137018\n234 5154 4554 0.11641443538998836\n235 5295 4590 0.13314447592067988\n236 5367 4656 0.1324762437115707\n237 5757 5082 0.11724856696195936\n5257.802521008403 5787.0252100840335 0.1057063250877283\n"
    }
   ],
   "source": [
    "import os\n",
    "from os import listdir\n",
    "from skimage import io\n",
    "import cv2\n",
    "import numpy as np \n",
    "import matplotlib.pyplot as plt \n",
    "\n",
    "path_predict = './results/'\n",
    "path_acuan = './data/Ground Truth/'\n",
    "\n",
    "list_predict = os.listdir(path_predict)\n",
    "list_acuan = os.listdir(path_acuan)\n",
    "temp = 0\n",
    "aa = 0\n",
    "bb = 0\n",
    "for i in range(len(list_acuan)):\n",
    "    a = np.count_nonzero(cv2.imread(path_predict+str(i)+'.png')==255)\n",
    "    b = np.count_nonzero(cv2.imread(path_acuan+str(i)+'.png')==255)\n",
    "    avg = abs(a-b)/b\n",
    "    print(i, b, a, avg)\n",
    "    temp = temp + avg\n",
    "    aa = aa + a\n",
    "    bb = bb + b\n",
    "temp = temp/len(list_acuan)\n",
    "aa = aa/len(list_acuan)\n",
    "bb = bb/len(list_acuan)\n",
    "print(aa, bb, temp)"
   ]
  },
  {
   "cell_type": "code",
   "execution_count": 16,
   "metadata": {},
   "outputs": [
    {
     "output_type": "execute_result",
     "data": {
      "text/plain": "<function ndarray.max>"
     },
     "metadata": {},
     "execution_count": 16
    }
   ],
   "source": [
    "ytrue.max"
   ]
  },
  {
   "cell_type": "code",
   "execution_count": null,
   "metadata": {},
   "outputs": [],
   "source": []
  }
 ],
 "metadata": {
  "language_info": {
   "name": "python",
   "codemirror_mode": {
    "name": "ipython",
    "version": 3
   },
   "version": "3.6.6-final"
  },
  "orig_nbformat": 2,
  "file_extension": ".py",
  "mimetype": "text/x-python",
  "name": "python",
  "npconvert_exporter": "python",
  "pygments_lexer": "ipython3",
  "version": 3,
  "kernelspec": {
   "name": "python36664bit20e9155409db4a5daee3dd105c2673f5",
   "display_name": "Python 3.6.6 64-bit"
  }
 },
 "nbformat": 4,
 "nbformat_minor": 2
}