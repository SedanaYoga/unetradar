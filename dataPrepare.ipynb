{
 "nbformat": 4,
 "nbformat_minor": 2,
 "metadata": {
  "language_info": {
   "name": "python",
   "codemirror_mode": {
    "name": "ipython",
    "version": 3
   },
   "version": "3.5.4-final"
  },
  "orig_nbformat": 2,
  "file_extension": ".py",
  "mimetype": "text/x-python",
  "name": "python",
  "npconvert_exporter": "python",
  "pygments_lexer": "ipython3",
  "version": 3,
  "kernelspec": {
   "name": "python35464bit4a11378904884981aa53a5ff31f05237",
   "display_name": "Python 3.5.4 64-bit"
  }
 },
 "cells": [
  {
   "cell_type": "code",
   "execution_count": 1,
   "metadata": {},
   "outputs": [
    {
     "name": "stderr",
     "output_type": "stream",
     "text": "Using TensorFlow backend.\n"
    }
   ],
   "source": [
    "from data import *"
   ]
  },
  {
   "cell_type": "markdown",
   "execution_count": null,
   "metadata": {},
   "outputs": [],
   "source": [
    "# Data Augmentasi\n",
    "\n",
    "Pembuatan data augmentasi menggunakan library **keras.preprocessing.image.ImageDataGenerator** yang bisa menggabungkan Deep Neural Network image dan label secara bersamaan."
   ]
  },
  {
   "cell_type": "markdown",
   "execution_count": null,
   "metadata": {},
   "outputs": [],
   "source": [
    "## Tentukan parameter data generator\n",
    "Gunakan parameter dengan metode random dictionary seperti dibawah ini."
   ]
  },
  {
   "cell_type": "code",
   "execution_count": 2,
   "metadata": {},
   "outputs": [],
   "source": [
    "data_gen_args = dict()#rotation_range = 0.1,\n",
    "                    #width_shift_range = 0.01,\n",
    "                    #height_shift_range = 0.01,\n",
    "                    #shear_range = 0.05,\n",
    "                    #zoom_range = 0.1,\n",
    "                    #horizontal_flip = True,\n",
    "                    #fill_mode = 'nearest')\n",
    "myGenerator = trainGenerator(30, 'data/train', 'image', 'label', data_gen_args, save_to_dir = \"data/train/aug\")"
   ]
  },
  {
   "cell_type": "markdown",
   "execution_count": null,
   "metadata": {},
   "outputs": [],
   "source": [
    "## Membuat data augmentasi ke folder **'data/train/aug/'**"
   ]
  },
  {
   "cell_type": "code",
   "execution_count": 3,
   "metadata": {},
   "outputs": [
    {
     "name": "stdout",
     "output_type": "stream",
     "text": "Found 600 images belonging to 1 classes.\nFound 600 images belonging to 1 classes.\n0\n1\n2\n3\n4\n5\n6\n7\n8\n9\n10\n11\n12\n13\n14\n15\n16\n17\n18\n19\n"
    }
   ],
   "source": [
    "num_batch = 20\n",
    "for i, batch in enumerate(myGenerator):\n",
    "    print(i)\n",
    "    if(i>=(num_batch-1)):\n",
    "        break"
   ]
  },
  {
   "cell_type": "markdown",
   "execution_count": null,
   "metadata": {},
   "outputs": [],
   "source": [
    "## Membuat .npy data (data augmentasi yang sudah dikompres)\n",
    "Butuh memori tambahan untuk menyimpan data ini"
   ]
  },
  {
   "cell_type": "code",
   "execution_count": 4,
   "metadata": {},
   "outputs": [],
   "source": [
    "image_arr,mask_arr = geneTrainNpy(\"data/train/aug/\",\"data/train/aug/\")\n",
    "np.save(\"data/image_arr.npy\",image_arr)\n",
    "np.save(\"data/mask_arr.npy\",mask_arr)"
   ]
  },
  {
   "cell_type": "markdown",
   "metadata": {},
   "source": [
    "## Masking Test Data"
   ]
  },
  {
   "cell_type": "code",
   "execution_count": 33,
   "metadata": {},
   "outputs": [],
   "source": [
    "import numpy as np \n",
    "import cv2\n",
    "\n",
    "red = np.array([255, 0, 0])\n",
    "green = np.array([0, 255, 0])\n",
    "blue = np.array([0, 0, 255])\n",
    "yellow = np.array([255, 255, 0])\n",
    "aqua = np.array([0, 255, 255])\n",
    "\n",
    "def masking(img, mask, color = None):\n",
    "    mask_out = np.zeros((432, 532, 3), dtype = 'uint8')\n",
    "    for i in range(mask.shape[0]-1):\n",
    "        for j in range(mask.shape[1]-1):\n",
    "            if (mask[i,j] >= 220):\n",
    "                mask_out[i,j,:] = mask[i,j] \n",
    "                mask_out[i,j,:] = color\n",
    "                cv2.cvtColor(img[i,j,:], COLOR_GRAY2BRG) = mask_out[i,j,:]\n",
    "                img[i,j,:] = mask_out[i,j,:]\n",
    "    segmented = img\n",
    "    return segmented"
   ]
  },
  {
   "cell_type": "code",
   "execution_count": 34,
   "metadata": {},
   "outputs": [
    {
     "name": "stdout",
     "output_type": "stream",
     "text": "Creating... data/test/0_predict.png\nCreating... data/test/1_predict.png\nCreating... data/test/2_predict.png\nCreating... data/test/3_predict.png\nCreating... data/test/4_predict.png\nCreating... data/test/5_predict.png\nCreating... data/test/6_predict.png\nCreating... data/test/7_predict.png\nCreating... data/test/8_predict.png\nCreating... data/test/9_predict.png\nCreating... data/test/10_predict.png\nCreating... data/test/11_predict.png\nCreating... data/test/12_predict.png\nCreating... data/test/13_predict.png\nCreating... data/test/14_predict.png\nCreating... data/test/15_predict.png\nCreating... data/test/16_predict.png\nCreating... data/test/17_predict.png\nCreating... data/test/18_predict.png\nCreating... data/test/19_predict.png\nCreating... data/test/20_predict.png\nCreating... data/test/21_predict.png\nCreating... data/test/22_predict.png\nCreating... data/test/23_predict.png\nCreating... data/test/24_predict.png\nCreating... data/test/25_predict.png\nCreating... data/test/26_predict.png\nCreating... data/test/27_predict.png\nCreating... data/test/28_predict.png\nCreating... data/test/29_predict.png\nCreating... data/test/30_predict.png\nCreating... data/test/31_predict.png\nCreating... data/test/32_predict.png\nCreating... data/test/33_predict.png\nCreating... data/test/34_predict.png\nCreating... data/test/35_predict.png\nCreating... data/test/36_predict.png\nCreating... data/test/37_predict.png\nCreating... data/test/38_predict.png\nCreating... data/test/39_predict.png\nCreating... data/test/40_predict.png\nCreating... data/test/41_predict.png\nCreating... data/test/42_predict.png\nCreating... data/test/43_predict.png\nCreating... data/test/44_predict.png\nCreating... data/test/45_predict.png\nCreating... data/test/46_predict.png\nCreating... data/test/47_predict.png\nCreating... data/test/48_predict.png\nCreating... data/test/49_predict.png\nCreating... data/test/50_predict.png\nCreating... data/test/51_predict.png\nCreating... data/test/52_predict.png\nCreating... data/test/53_predict.png\nCreating... data/test/54_predict.png\nCreating... data/test/55_predict.png\nCreating... data/test/56_predict.png\nCreating... data/test/57_predict.png\nCreating... data/test/58_predict.png\nCreating... data/test/59_predict.png\nCreating... data/test/60_predict.png\nCreating... data/test/61_predict.png\nCreating... data/test/62_predict.png\nCreating... data/test/63_predict.png\nCreating... data/test/64_predict.png\nCreating... data/test/65_predict.png\nCreating... data/test/66_predict.png\nCreating... data/test/67_predict.png\nCreating... data/test/68_predict.png\nCreating... data/test/69_predict.png\nCreating... data/test/70_predict.png\nCreating... data/test/71_predict.png\nCreating... data/test/72_predict.png\nCreating... data/test/73_predict.png\nCreating... data/test/74_predict.png\nCreating... data/test/75_predict.png\nCreating... data/test/76_predict.png\nCreating... data/test/77_predict.png\nCreating... data/test/78_predict.png\nCreating... data/test/79_predict.png\nCreating... data/test/80_predict.png\nCreating... data/test/81_predict.png\nCreating... data/test/82_predict.png\nCreating... data/test/83_predict.png\nCreating... data/test/84_predict.png\nCreating... data/test/85_predict.png\nCreating... data/test/86_predict.png\nCreating... data/test/87_predict.png\nCreating... data/test/88_predict.png\nCreating... data/test/89_predict.png\nCreating... data/test/90_predict.png\nCreating... data/test/91_predict.png\nCreating... data/test/92_predict.png\nCreating... data/test/93_predict.png\nCreating... data/test/94_predict.png\nCreating... data/test/95_predict.png\nCreating... data/test/96_predict.png\nCreating... data/test/97_predict.png\nCreating... data/test/98_predict.png\nCreating... data/test/99_predict.png\nCreating... data/test/100_predict.png\nCreating... data/test/101_predict.png\nCreating... data/test/102_predict.png\nCreating... data/test/103_predict.png\nCreating... data/test/104_predict.png\nCreating... data/test/105_predict.png\nCreating... data/test/106_predict.png\nCreating... data/test/107_predict.png\nCreating... data/test/108_predict.png\nCreating... data/test/109_predict.png\nCreating... data/test/110_predict.png\nCreating... data/test/111_predict.png\nCreating... data/test/112_predict.png\nCreating... data/test/113_predict.png\nCreating... data/test/114_predict.png\nCreating... data/test/115_predict.png\nCreating... data/test/116_predict.png\nCreating... data/test/117_predict.png\nCreating... data/test/118_predict.png\nCreating... data/test/119_predict.png\nCreating... data/test/120_predict.png\nCreating... data/test/121_predict.png\nCreating... data/test/122_predict.png\nCreating... data/test/123_predict.png\nCreating... data/test/124_predict.png\nCreating... data/test/125_predict.png\nCreating... data/test/126_predict.png\nCreating... data/test/127_predict.png\nCreating... data/test/128_predict.png\nCreating... data/test/129_predict.png\nCreating... data/test/130_predict.png\nCreating... data/test/131_predict.png\nCreating... data/test/132_predict.png\nCreating... data/test/133_predict.png\nCreating... data/test/134_predict.png\nCreating... data/test/135_predict.png\nCreating... data/test/136_predict.png\nCreating... data/test/137_predict.png\nCreating... data/test/138_predict.png\nCreating... data/test/139_predict.png\nCreating... data/test/140_predict.png\nCreating... data/test/141_predict.png\nCreating... data/test/142_predict.png\nCreating... data/test/143_predict.png\nCreating... data/test/144_predict.png\nCreating... data/test/145_predict.png\nCreating... data/test/146_predict.png\nCreating... data/test/147_predict.png\nCreating... data/test/148_predict.png\nCreating... data/test/149_predict.png\nCreating... data/test/150_predict.png\nCreating... data/test/151_predict.png\nCreating... data/test/152_predict.png\nCreating... data/test/153_predict.png\nCreating... data/test/154_predict.png\nCreating... data/test/155_predict.png\nCreating... data/test/156_predict.png\nCreating... data/test/157_predict.png\nCreating... data/test/158_predict.png\nCreating... data/test/159_predict.png\nCreating... data/test/160_predict.png\nCreating... data/test/161_predict.png\nCreating... data/test/162_predict.png\nCreating... data/test/163_predict.png\nCreating... data/test/164_predict.png\nCreating... data/test/165_predict.png\nCreating... data/test/166_predict.png\nCreating... data/test/167_predict.png\nCreating... data/test/168_predict.png\nCreating... data/test/169_predict.png\nCreating... data/test/170_predict.png\nCreating... data/test/171_predict.png\nCreating... data/test/172_predict.png\nCreating... data/test/173_predict.png\nCreating... data/test/174_predict.png\nCreating... data/test/175_predict.png\nCreating... data/test/176_predict.png\nCreating... data/test/177_predict.png\nCreating... data/test/178_predict.png\nCreating... data/test/179_predict.png\nCreating... data/test/180_predict.png\nCreating... data/test/181_predict.png\nCreating... data/test/182_predict.png\nCreating... data/test/183_predict.png\nCreating... data/test/184_predict.png\nCreating... data/test/185_predict.png\nCreating... data/test/186_predict.png\nCreating... data/test/187_predict.png\nCreating... data/test/188_predict.png\nCreating... data/test/189_predict.png\nCreating... data/test/190_predict.png\nCreating... data/test/191_predict.png\nCreating... data/test/192_predict.png\nCreating... data/test/193_predict.png\nCreating... data/test/194_predict.png\nCreating... data/test/195_predict.png\nCreating... data/test/196_predict.png\nCreating... data/test/197_predict.png\nCreating... data/test/198_predict.png\nCreating... data/test/199_predict.png\nCreating... data/test/200_predict.png\nCreating... data/test/201_predict.png\nCreating... data/test/202_predict.png\nCreating... data/test/203_predict.png\nCreating... data/test/204_predict.png\nCreating... data/test/205_predict.png\nCreating... data/test/206_predict.png\nCreating... data/test/207_predict.png\nCreating... data/test/208_predict.png\nCreating... data/test/209_predict.png\nCreating... data/test/210_predict.png\nCreating... data/test/211_predict.png\nCreating... data/test/212_predict.png\nCreating... data/test/213_predict.png\nCreating... data/test/214_predict.png\nCreating... data/test/215_predict.png\nCreating... data/test/216_predict.png\nCreating... data/test/217_predict.png\nCreating... data/test/218_predict.png\nCreating... data/test/219_predict.png\nCreating... data/test/220_predict.png\nCreating... data/test/221_predict.png\nCreating... data/test/222_predict.png\nCreating... data/test/223_predict.png\nCreating... data/test/224_predict.png\nCreating... data/test/225_predict.png\nCreating... data/test/226_predict.png\nCreating... data/test/227_predict.png\nCreating... data/test/228_predict.png\nCreating... data/test/229_predict.png\nCreating... data/test/230_predict.png\nCreating... data/test/231_predict.png\nCreating... data/test/232_predict.png\nCreating... data/test/233_predict.png\nCreating... data/test/234_predict.png\nCreating... data/test/235_predict.png\nCreating... data/test/236_predict.png\nCreating... data/test/237_predict.png\n"
    }
   ],
   "source": [
    "import os\n",
    "from os import listdir\n",
    "from skimage import io\n",
    "\n",
    "results_path = 'data/test/'\n",
    "results_results = 'results/'\n",
    "list_file = os.listdir(results_path)\n",
    "#real = np.zeros((len(list_file)//2, 432, 532), dtype ='uint8')\n",
    "masked = np.zeros((len(list_file)//2, 432, 532, 3), dtype ='uint8')\n",
    "\n",
    "for i in range(len(list_file)//2):\n",
    "    masked[i] = masking(io.imread(results_path+str(i)+'.png'), io.imread(results_path+str(i)+'_predict.png'), yellow)\n",
    "    print('Creating... ' + results_path+str(i)+'_predict.png')\n",
    "    io.imsave(os.path.join(results_results,\"%d.png\"%i), masked[i])"
   ]
  },
  {
   "cell_type": "markdown",
   "metadata": {},
   "source": [
    "# CARA CONVERT PNG TO MP4\n",
    "##ffmpeg -r 30 -f image2 -i %d.png -vcodec libx264 -crf 15  -pix_fmt yuv420p test.mp4"
   ]
  },
  {
   "cell_type": "code",
   "execution_count": 27,
   "metadata": {},
   "outputs": [
    {
     "name": "stdout",
     "output_type": "stream",
     "text": "uint8\nuint8\n"
    }
   ],
   "source": [
    "print(io.imread(results_path+str(1)+'.png').dtype)\n",
    "print(io.imread(results_path+str(i)+'_predict.png').dtype)"
   ]
  },
  {
   "cell_type": "code",
   "execution_count": null,
   "metadata": {},
   "outputs": [],
   "source": []
  }
 ]
}