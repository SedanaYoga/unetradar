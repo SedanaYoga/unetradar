{
 "nbformat": 4,
 "nbformat_minor": 2,
 "metadata": {
  "language_info": {
   "name": "python",
   "codemirror_mode": {
    "name": "ipython",
    "version": 3
   },
   "version": "3.5.4-final"
  },
  "orig_nbformat": 2,
  "file_extension": ".py",
  "mimetype": "text/x-python",
  "name": "python",
  "npconvert_exporter": "python",
  "pygments_lexer": "ipython3",
  "version": 3,
  "kernelspec": {
   "name": "python35464bit4a11378904884981aa53a5ff31f05237",
   "display_name": "Python 3.5.4 64-bit"
  }
 },
 "cells": [
  {
   "cell_type": "code",
   "execution_count": 1,
   "metadata": {},
   "outputs": [
    {
     "name": "stderr",
     "output_type": "stream",
     "text": "Using TensorFlow backend.\n"
    }
   ],
   "source": [
    "from data import *"
   ]
  },
  {
   "cell_type": "markdown",
   "metadata": {},
   "source": [
    "# Data Augmentasi\n",
    "\n",
    "Pembuatan data augmentasi menggunakan library **keras.preprocessing.image.ImageDataGenerator** yang bisa menggabungkan Deep Neural Network image dan label secara bersamaan."
   ]
  },
  {
   "cell_type": "markdown",
   "metadata": {},
   "source": [
    "## Tentukan parameter data generator\n",
    "Gunakan parameter dengan metode random dictionary seperti dibawah ini."
   ]
  },
  {
   "cell_type": "code",
   "execution_count": 2,
   "metadata": {},
   "outputs": [],
   "source": [
    "data_gen_args = dict(rotation_range = 0.2,\n",
    "                    width_shift = 0.05,\n",
    "                    height_shift_range = 0.05,\n",
    "                    shear_range = 0.05,\n",
    "                    zoom_range = 0.05,\n",
    "                    horizontal_flip = True,\n",
    "                    fill_mode = 'nearest')\n",
    "myGenerator = trainGenerator(20, 'data/train', 'image', 'label', data_gen_args, save_to_dir = 'data/train/aug')"
   ]
  },
  {
   "cell_type": "markdown",
   "metadata": {},
   "source": [
    "## Membuat data augmentasi ke folder **'data/train/aug/'**"
   ]
  },
  {
   "cell_type": "code",
   "execution_count": null,
   "metadata": {},
   "outputs": [],
   "source": [
    "num_batch = 3\n",
    "for i, batch in enumerate(myGenerator):\n",
    "    if(i>num_batch):\n",
    "        break"
   ]
  },
  {
   "cell_type": "markdown",
   "metadata": {},
   "source": [
    "## Membuat .npy data (data augmentasi yang sudah dikompres)\n",
    "Butuh memori tambahan untuk menyimpan data ini"
   ]
  },
  {
   "cell_type": "code",
   "execution_count": null,
   "metadata": {},
   "outputs": [],
   "source": [
    "image_arr, mask_arr = geneTrainNpy('data/train/aug', 'data/train/aug')\n",
    "np.save('data/image_arr.npy', image_arr)\n",
    "np.save('data/mask_arr.npy', mask_arr)"
   ]
  }
 ]
}