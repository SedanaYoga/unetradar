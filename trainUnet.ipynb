{
 "nbformat": 4,
 "nbformat_minor": 2,
 "metadata": {
  "language_info": {
   "name": "python",
   "codemirror_mode": {
    "name": "ipython",
    "version": 3
   },
   "version": "3.5.4-final"
  },
  "orig_nbformat": 2,
  "file_extension": ".py",
  "mimetype": "text/x-python",
  "name": "python",
  "npconvert_exporter": "python",
  "pygments_lexer": "ipython3",
  "version": 3,
  "kernelspec": {
   "name": "python35464bit4a11378904884981aa53a5ff31f05237",
   "display_name": "Python 3.5.4 64-bit"
  }
 },
 "cells": [
  {
   "cell_type": "code",
   "execution_count": 1,
   "metadata": {},
   "outputs": [
    {
     "name": "stderr",
     "output_type": "stream",
     "text": "Using TensorFlow backend.\n"
    }
   ],
   "source": [
    "from model import *\n",
    "from data import *\n",
    "import cv2"
   ]
  },
  {
   "cell_type": "code",
   "execution_count": 2,
   "metadata": {},
   "outputs": [],
   "source": [
    "model_checkpoint = ModelCheckpoint('unet_weights.hdf5', monitor='loss',verbose=1, save_best_only=True)\n",
    "model = unet()"
   ]
  },
  {
   "cell_type": "markdown",
   "execution_count": null,
   "metadata": {},
   "outputs": [],
   "source": [
    "## Train dengan data Generator"
   ]
  },
  {
   "cell_type": "code",
   "execution_count": null,
   "metadata": {},
   "outputs": [],
   "source": [
    "data_gen_args = dict()#rotation_range=0.2,\n",
    "                    #width_shift_range=0.05,\n",
    "                    #height_shift_range=0.05,\n",
    "                    #shear_range=0.05,\n",
    "                    #zoom_range=0.05,\n",
    "                    #horizontal_flip=True,\n",
    "                    #fill_mode='nearest')\n",
    "myGene = trainGenerator(2,'data/train','image','label',data_gen_args,save_to_dir = None)\n",
    "model.fit_generator(myGene, steps_per_epoch = 300, epochs = 10, callbacks = [model_checkpoint])"
   ]
  },
  {
   "cell_type": "markdown",
   "execution_count": null,
   "metadata": {},
   "outputs": [],
   "source": [
    "## Train dengan npy file"
   ]
  },
  {
   "cell_type": "code",
   "execution_count": 3,
   "metadata": {},
   "outputs": [
    {
     "name": "stdout",
     "output_type": "stream",
     "text": "Train on 570 samples, validate on 30 samples\nEpoch 1/50\n570/570 [==============================] - 541s 950ms/step - loss: 0.0566 - accuracy: 0.9813 - val_loss: 0.0499 - val_accuracy: 0.9774\n\nEpoch 00001: loss improved from inf to 0.05656, saving model to unet_weights.hdf5\nEpoch 2/50\n570/570 [==============================] - 485s 851ms/step - loss: 0.0230 - accuracy: 0.9912 - val_loss: 0.0175 - val_accuracy: 0.9944\n\nEpoch 00002: loss improved from 0.05656 to 0.02302, saving model to unet_weights.hdf5\nEpoch 3/50\n570/570 [==============================] - 486s 852ms/step - loss: 0.0114 - accuracy: 0.9961 - val_loss: 0.0043 - val_accuracy: 0.9984\n\nEpoch 00003: loss improved from 0.02302 to 0.01141, saving model to unet_weights.hdf5\nEpoch 4/50\n570/570 [==============================] - 486s 852ms/step - loss: 0.0080 - accuracy: 0.9972 - val_loss: 0.0076 - val_accuracy: 0.9971\n\nEpoch 00004: loss improved from 0.01141 to 0.00802, saving model to unet_weights.hdf5\nEpoch 5/50\n570/570 [==============================] - 484s 850ms/step - loss: 0.0057 - accuracy: 0.9979 - val_loss: 0.0037 - val_accuracy: 0.9983\n\nEpoch 00005: loss improved from 0.00802 to 0.00568, saving model to unet_weights.hdf5\nEpoch 6/50\n570/570 [==============================] - 484s 849ms/step - loss: 0.0062 - accuracy: 0.9979 - val_loss: 0.0055 - val_accuracy: 0.9976\n\nEpoch 00006: loss did not improve from 0.00568\nEpoch 7/50\n570/570 [==============================] - 486s 853ms/step - loss: 0.0064 - accuracy: 0.9978 - val_loss: 0.0028 - val_accuracy: 0.9986\n\nEpoch 00007: loss did not improve from 0.00568\nEpoch 8/50\n570/570 [==============================] - 484s 849ms/step - loss: 0.0040 - accuracy: 0.9984 - val_loss: 0.0021 - val_accuracy: 0.9993\n\nEpoch 00008: loss improved from 0.00568 to 0.00403, saving model to unet_weights.hdf5\nEpoch 9/50\n570/570 [==============================] - 482s 846ms/step - loss: 0.0038 - accuracy: 0.9985 - val_loss: 0.0081 - val_accuracy: 0.9968\n\nEpoch 00009: loss improved from 0.00403 to 0.00376, saving model to unet_weights.hdf5\nEpoch 10/50\n570/570 [==============================] - 482s 845ms/step - loss: 0.0059 - accuracy: 0.9977 - val_loss: 0.0028 - val_accuracy: 0.9988\n\nEpoch 00010: loss did not improve from 0.00376\nEpoch 11/50\n570/570 [==============================] - 481s 844ms/step - loss: 0.0057 - accuracy: 0.9980 - val_loss: 0.0020 - val_accuracy: 0.9992\n\nEpoch 00011: loss did not improve from 0.00376\nEpoch 12/50\n570/570 [==============================] - 482s 845ms/step - loss: 0.0042 - accuracy: 0.9984 - val_loss: 0.0034 - val_accuracy: 0.9992\n\nEpoch 00012: loss did not improve from 0.00376\nEpoch 13/50\n570/570 [==============================] - 482s 846ms/step - loss: 0.0039 - accuracy: 0.9985 - val_loss: 0.0021 - val_accuracy: 0.9991\n\nEpoch 00013: loss did not improve from 0.00376\nEpoch 14/50\n570/570 [==============================] - 483s 847ms/step - loss: 0.0058 - accuracy: 0.9980 - val_loss: 0.0020 - val_accuracy: 0.9992\n\nEpoch 00014: loss did not improve from 0.00376\nEpoch 15/50\n570/570 [==============================] - 481s 844ms/step - loss: 0.0148 - accuracy: 0.9956 - val_loss: 0.0044 - val_accuracy: 0.9986\n\nEpoch 00015: loss did not improve from 0.00376\nEpoch 16/50\n570/570 [==============================] - 480s 842ms/step - loss: 0.0051 - accuracy: 0.9981 - val_loss: 0.0035 - val_accuracy: 0.9987\n\nEpoch 00016: loss did not improve from 0.00376\nEpoch 17/50\n570/570 [==============================] - 480s 842ms/step - loss: 0.0041 - accuracy: 0.9984 - val_loss: 0.0023 - val_accuracy: 0.9991\n\nEpoch 00017: loss did not improve from 0.00376\nEpoch 18/50\n570/570 [==============================] - 481s 843ms/step - loss: 0.0030 - accuracy: 0.9988 - val_loss: 0.0024 - val_accuracy: 0.9988\n\nEpoch 00018: loss improved from 0.00376 to 0.00304, saving model to unet_weights.hdf5\nEpoch 19/50\n570/570 [==============================] - 484s 849ms/step - loss: 0.0027 - accuracy: 0.9989 - val_loss: 0.0020 - val_accuracy: 0.9990\n\nEpoch 00019: loss improved from 0.00304 to 0.00272, saving model to unet_weights.hdf5\nEpoch 20/50\n570/570 [==============================] - 486s 852ms/step - loss: 0.0026 - accuracy: 0.9989 - val_loss: 0.0023 - val_accuracy: 0.9988\n\nEpoch 00020: loss improved from 0.00272 to 0.00261, saving model to unet_weights.hdf5\nEpoch 21/50\n570/570 [==============================] - 484s 850ms/step - loss: 0.0057 - accuracy: 0.9980 - val_loss: 0.0023 - val_accuracy: 0.9994\n\nEpoch 00021: loss did not improve from 0.00261\nEpoch 22/50\n570/570 [==============================] - 486s 853ms/step - loss: 0.0039 - accuracy: 0.9985 - val_loss: 0.0024 - val_accuracy: 0.9989\n\nEpoch 00022: loss did not improve from 0.00261\nEpoch 23/50\n570/570 [==============================] - 482s 846ms/step - loss: 0.0028 - accuracy: 0.9989 - val_loss: 0.0018 - val_accuracy: 0.9993\n\nEpoch 00023: loss did not improve from 0.00261\nEpoch 24/50\n570/570 [==============================] - 484s 849ms/step - loss: 0.0024 - accuracy: 0.9990 - val_loss: 0.0017 - val_accuracy: 0.9993\n\nEpoch 00024: loss improved from 0.00261 to 0.00242, saving model to unet_weights.hdf5\nEpoch 25/50\n570/570 [==============================] - 476s 836ms/step - loss: 0.0048 - accuracy: 0.9982 - val_loss: 0.0019 - val_accuracy: 0.9993\n\nEpoch 00025: loss did not improve from 0.00242\nEpoch 26/50\n570/570 [==============================] - 480s 841ms/step - loss: 0.0027 - accuracy: 0.9989 - val_loss: 0.0017 - val_accuracy: 0.9994\n\nEpoch 00026: loss did not improve from 0.00242\nEpoch 27/50\n570/570 [==============================] - 480s 842ms/step - loss: 0.0022 - accuracy: 0.9991 - val_loss: 0.0017 - val_accuracy: 0.9993\n\nEpoch 00027: loss improved from 0.00242 to 0.00223, saving model to unet_weights.hdf5\nEpoch 28/50\n570/570 [==============================] - 477s 837ms/step - loss: 0.0021 - accuracy: 0.9992 - val_loss: 0.0016 - val_accuracy: 0.9993\n\nEpoch 00028: loss improved from 0.00223 to 0.00208, saving model to unet_weights.hdf5\nEpoch 29/50\n570/570 [==============================] - 495s 868ms/step - loss: 0.0020 - accuracy: 0.9992 - val_loss: 0.0016 - val_accuracy: 0.9994\n\nEpoch 00029: loss improved from 0.00208 to 0.00201, saving model to unet_weights.hdf5\nEpoch 30/50\n570/570 [==============================] - 494s 867ms/step - loss: 0.0020 - accuracy: 0.9992 - val_loss: 0.0020 - val_accuracy: 0.9991\n\nEpoch 00030: loss did not improve from 0.00201\nEpoch 31/50\n570/570 [==============================] - 480s 843ms/step - loss: 0.0017 - accuracy: 0.9993 - val_loss: 0.0015 - val_accuracy: 0.9995\n\nEpoch 00031: loss improved from 0.00201 to 0.00172, saving model to unet_weights.hdf5\nEpoch 32/50\n570/570 [==============================] - 480s 842ms/step - loss: 0.0018 - accuracy: 0.9993 - val_loss: 0.0015 - val_accuracy: 0.9992\n\nEpoch 00032: loss did not improve from 0.00172\nEpoch 33/50\n570/570 [==============================] - 480s 842ms/step - loss: 0.0016 - accuracy: 0.9993 - val_loss: 0.0011 - val_accuracy: 0.9995\n\nEpoch 00033: loss improved from 0.00172 to 0.00164, saving model to unet_weights.hdf5\nEpoch 34/50\n570/570 [==============================] - 478s 838ms/step - loss: 0.0066 - accuracy: 0.9980 - val_loss: 0.0076 - val_accuracy: 0.9986\n\nEpoch 00034: loss did not improve from 0.00164\nEpoch 35/50\n570/570 [==============================] - 479s 841ms/step - loss: 0.0378 - accuracy: 0.9899 - val_loss: 0.0172 - val_accuracy: 0.9972\n\nEpoch 00035: loss did not improve from 0.00164\nEpoch 36/50\n570/570 [==============================] - 480s 843ms/step - loss: 0.0072 - accuracy: 0.9976 - val_loss: 0.0020 - val_accuracy: 0.9994\n\nEpoch 00036: loss did not improve from 0.00164\nEpoch 37/50\n570/570 [==============================] - 480s 843ms/step - loss: 0.0037 - accuracy: 0.9986 - val_loss: 0.0023 - val_accuracy: 0.9989\n\nEpoch 00037: loss did not improve from 0.00164\nEpoch 38/50\n570/570 [==============================] - 480s 843ms/step - loss: 0.0037 - accuracy: 0.9986 - val_loss: 0.0018 - val_accuracy: 0.9994\n\nEpoch 00038: loss did not improve from 0.00164\nEpoch 39/50\n570/570 [==============================] - 480s 843ms/step - loss: 0.0025 - accuracy: 0.9990 - val_loss: 0.0019 - val_accuracy: 0.9992\n\nEpoch 00039: loss did not improve from 0.00164\nEpoch 40/50\n570/570 [==============================] - 481s 843ms/step - loss: 0.0025 - accuracy: 0.9990 - val_loss: 0.0016 - val_accuracy: 0.9995\n\nEpoch 00040: loss did not improve from 0.00164\nEpoch 41/50\n570/570 [==============================] - 480s 843ms/step - loss: 0.0029 - accuracy: 0.9989 - val_loss: 0.0016 - val_accuracy: 0.9995\n\nEpoch 00041: loss did not improve from 0.00164\nEpoch 42/50\n570/570 [==============================] - 476s 835ms/step - loss: 0.0023 - accuracy: 0.9991 - val_loss: 0.0020 - val_accuracy: 0.9992\n\nEpoch 00042: loss did not improve from 0.00164\nEpoch 43/50\n570/570 [==============================] - 480s 843ms/step - loss: 0.0021 - accuracy: 0.9991 - val_loss: 0.0012 - val_accuracy: 0.9995\n\nEpoch 00043: loss did not improve from 0.00164\nEpoch 44/50\n570/570 [==============================] - 475s 833ms/step - loss: 0.0019 - accuracy: 0.9992 - val_loss: 0.0011 - val_accuracy: 0.9996\n\nEpoch 00044: loss did not improve from 0.00164\nEpoch 45/50\n570/570 [==============================] - 475s 833ms/step - loss: 0.0022 - accuracy: 0.9991 - val_loss: 0.0018 - val_accuracy: 0.9992\n\nEpoch 00045: loss did not improve from 0.00164\nEpoch 46/50\n570/570 [==============================] - 467s 820ms/step - loss: 0.0020 - accuracy: 0.9992 - val_loss: 9.9448e-04 - val_accuracy: 0.9997\n\nEpoch 00046: loss did not improve from 0.00164\nEpoch 47/50\n570/570 [==============================] - 464s 814ms/step - loss: 0.0017 - accuracy: 0.9993 - val_loss: 9.7209e-04 - val_accuracy: 0.9997\n\nEpoch 00047: loss did not improve from 0.00164\nEpoch 48/50\n570/570 [==============================] - 476s 835ms/step - loss: 0.0015 - accuracy: 0.9994 - val_loss: 9.3795e-04 - val_accuracy: 0.9996\n\nEpoch 00048: loss improved from 0.00164 to 0.00149, saving model to unet_weights.hdf5\nEpoch 49/50\n570/570 [==============================] - 464s 815ms/step - loss: 0.0014 - accuracy: 0.9994 - val_loss: 0.0010 - val_accuracy: 0.9996\n\nEpoch 00049: loss improved from 0.00149 to 0.00139, saving model to unet_weights.hdf5\nEpoch 50/50\n570/570 [==============================] - 461s 808ms/step - loss: 0.0021 - accuracy: 0.9993 - val_loss: 0.0011 - val_accuracy: 0.9997\n\nEpoch 00050: loss did not improve from 0.00139\n"
    },
    {
     "data": {
      "text/plain": "<keras.callbacks.callbacks.History at 0x1ff2912cd30>"
     },
     "execution_count": 3,
     "metadata": {},
     "output_type": "execute_result"
    }
   ],
   "source": [
    "imgs_train, imgs_mask_train = geneTrainNpy(\"data/train/aug/\",\"data/train/aug/\")\n",
    "model.fit(imgs_train, imgs_mask_train, batch_size = 2, epochs = 50, verbose = 1, validation_split= 0.05, shuffle = True, callbacks = [model_checkpoint])\n",
    "#model.fit(imgs_train, imgs_mask_train, batch_size = 2,epochs = 10, verbose = 1, shuffle = True, validation_data=0.2, callbacks = [model_checkpoint])"
   ]
  },
  {
   "cell_type": "markdown",
   "execution_count": null,
   "metadata": {},
   "outputs": [],
   "source": [
    "## Simpan Data Prediksi"
   ]
  },
  {
   "cell_type": "code",
   "execution_count": 38,
   "metadata": {},
   "outputs": [
    {
     "name": "stdout",
     "output_type": "stream",
     "text": "30/30 [==============================] - 5s 158ms/step\n"
    }
   ],
   "source": [
    "testGene = testGenerator('data/test')\n",
    "results = cv2.normalize(src= model.predict_generator(testGene,30,verbose=1, callbacks = [model_checkpoint]), dst=None, alpha=0, beta=255, norm_type=cv2.NORM_MINMAX, dtype=cv2.CV_8U)\n",
    "saveResult('data/test', results)"
   ]
  },
  {
   "cell_type": "code",
   "execution_count": 40,
   "metadata": {},
   "outputs": [
    {
     "data": {
      "text/plain": "array([[[1],\n        [0],\n        [0],\n        ...,\n        [1],\n        [5],\n        [5]],\n\n       [[0],\n        [0],\n        [0],\n        ...,\n        [0],\n        [0],\n        [0]],\n\n       [[0],\n        [0],\n        [0],\n        ...,\n        [0],\n        [0],\n        [0]],\n\n       ...,\n\n       [[0],\n        [0],\n        [0],\n        ...,\n        [0],\n        [0],\n        [0]],\n\n       [[0],\n        [0],\n        [0],\n        ...,\n        [0],\n        [0],\n        [0]],\n\n       [[0],\n        [0],\n        [0],\n        ...,\n        [0],\n        [0],\n        [0]]], dtype=uint8)"
     },
     "execution_count": 40,
     "metadata": {},
     "output_type": "execute_result"
    }
   ],
   "source": [
    "results[1]"
   ]
  },
  {
   "cell_type": "code",
   "execution_count": null,
   "metadata": {},
   "outputs": [],
   "source": []
  }
 ]
}