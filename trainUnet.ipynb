{
 "nbformat": 4,
 "nbformat_minor": 2,
 "metadata": {
  "language_info": {
   "name": "python",
   "codemirror_mode": {
    "name": "ipython",
    "version": 3
   },
   "version": "3.5.4-final"
  },
  "orig_nbformat": 2,
  "file_extension": ".py",
  "mimetype": "text/x-python",
  "name": "python",
  "npconvert_exporter": "python",
  "pygments_lexer": "ipython3",
  "version": 3,
  "kernelspec": {
   "name": "python35464bit4a11378904884981aa53a5ff31f05237",
   "display_name": "Python 3.5.4 64-bit"
  }
 },
 "cells": [
  {
   "cell_type": "code",
   "execution_count": 1,
   "metadata": {},
   "outputs": [
    {
     "name": "stderr",
     "output_type": "stream",
     "text": "Using TensorFlow backend.\n"
    }
   ],
   "source": [
    "from model import *\n",
    "from data import *\n",
    "import cv2"
   ]
  },
  {
   "cell_type": "code",
   "execution_count": 2,
   "metadata": {},
   "outputs": [],
   "source": [
    "model_checkpoint = ModelCheckpoint('unet_weights.hdf5', monitor='loss',verbose=1, save_best_only=True)\n",
    "model = unet()"
   ]
  },
  {
   "cell_type": "markdown",
   "execution_count": null,
   "metadata": {},
   "outputs": [],
   "source": [
    "## Train dengan data Generator"
   ]
  },
  {
   "cell_type": "code",
   "execution_count": null,
   "metadata": {},
   "outputs": [],
   "source": [
    "data_gen_args = dict()#rotation_range=0.2,\n",
    "                    #width_shift_range=0.05,\n",
    "                    #height_shift_range=0.05,\n",
    "                    #shear_range=0.05,\n",
    "                    #zoom_range=0.05,\n",
    "                    #horizontal_flip=True,\n",
    "                    #fill_mode='nearest')\n",
    "myGene = trainGenerator(2,'data/train','image','label',data_gen_args,save_to_dir = None)\n",
    "model.fit_generator(myGene, steps_per_epoch = 300, epochs = 10, callbacks = [model_checkpoint])"
   ]
  },
  {
   "cell_type": "markdown",
   "execution_count": null,
   "metadata": {},
   "outputs": [],
   "source": [
    "## Train dengan npy file"
   ]
  },
  {
   "cell_type": "code",
   "execution_count": 3,
   "metadata": {},
   "outputs": [
    {
     "name": "stdout",
     "output_type": "stream",
     "text": "Train on 480 samples, validate on 120 samples\nEpoch 1/10\n480/480 [==============================] - 267s 557ms/step - loss: 0.0701 - accuracy: 0.9794 - val_loss: 0.0487 - val_accuracy: 0.9843\n\nEpoch 00001: loss improved from inf to 0.07013, saving model to unet_weights.hdf5\nEpoch 2/10\n480/480 [==============================] - 355s 740ms/step - loss: 0.0343 - accuracy: 0.9794 - val_loss: 0.0177 - val_accuracy: 0.9843\n\nEpoch 00002: loss improved from 0.07013 to 0.03428, saving model to unet_weights.hdf5\nEpoch 3/10\n480/480 [==============================] - 337s 702ms/step - loss: 0.0251 - accuracy: 0.9919 - val_loss: 0.0144 - val_accuracy: 0.9982\n\nEpoch 00003: loss improved from 0.03428 to 0.02514, saving model to unet_weights.hdf5\nEpoch 4/10\n480/480 [==============================] - 288s 601ms/step - loss: 0.0214 - accuracy: 0.9958 - val_loss: 0.0226 - val_accuracy: 0.9936\n\nEpoch 00004: loss improved from 0.02514 to 0.02142, saving model to unet_weights.hdf5\nEpoch 5/10\n480/480 [==============================] - 278s 579ms/step - loss: 0.0181 - accuracy: 0.9973 - val_loss: 0.0132 - val_accuracy: 0.9983\n\nEpoch 00005: loss improved from 0.02142 to 0.01809, saving model to unet_weights.hdf5\nEpoch 6/10\n480/480 [==============================] - 273s 569ms/step - loss: 0.0167 - accuracy: 0.9978 - val_loss: 0.0122 - val_accuracy: 0.9987\n\nEpoch 00006: loss improved from 0.01809 to 0.01665, saving model to unet_weights.hdf5\nEpoch 7/10\n480/480 [==============================] - 296s 617ms/step - loss: 0.0166 - accuracy: 0.9979 - val_loss: 0.0130 - val_accuracy: 0.9980\n\nEpoch 00007: loss improved from 0.01665 to 0.01655, saving model to unet_weights.hdf5\nEpoch 8/10\n480/480 [==============================] - 283s 590ms/step - loss: 0.0211 - accuracy: 0.9958 - val_loss: 0.0391 - val_accuracy: 0.9894\n\nEpoch 00008: loss did not improve from 0.01655\nEpoch 9/10\n480/480 [==============================] - 292s 608ms/step - loss: 0.0224 - accuracy: 0.9928 - val_loss: 0.0136 - val_accuracy: 0.9972\n\nEpoch 00009: loss did not improve from 0.01655\nEpoch 10/10\n480/480 [==============================] - 286s 596ms/step - loss: 0.0160 - accuracy: 0.9979 - val_loss: 0.0121 - val_accuracy: 0.9986\n\nEpoch 00010: loss improved from 0.01655 to 0.01601, saving model to unet_weights.hdf5\n"
    },
    {
     "data": {
      "text/plain": "<keras.callbacks.callbacks.History at 0x2c14ef9eeb8>"
     },
     "execution_count": 3,
     "metadata": {},
     "output_type": "execute_result"
    }
   ],
   "source": [
    "imgs_train, imgs_mask_train = geneTrainNpy(\"data/train/aug/\",\"data/train/aug/\")\n",
    "model.fit(imgs_train, imgs_mask_train, batch_size = 2, epochs = 10, verbose = 1, validation_split= 0.2, shuffle = True, callbacks = [model_checkpoint])\n",
    "#model.fit(imgs_train, imgs_mask_train, batch_size = 2,epochs = 10, verbose = 1, shuffle = True, validation_data=0.2, callbacks = [model_checkpoint])"
   ]
  },
  {
   "cell_type": "markdown",
   "execution_count": null,
   "metadata": {},
   "outputs": [],
   "source": [
    "## Simpan Data Prediksi"
   ]
  },
  {
   "cell_type": "code",
   "execution_count": 4,
   "metadata": {},
   "outputs": [
    {
     "name": "stdout",
     "output_type": "stream",
     "text": "20/20 [==============================] - 3s 148ms/step\n"
    }
   ],
   "source": [
    "from data import *\n",
    "testGene = testGenerator('data/test')\n",
    "results = cv2.normalize(src=model.predict_generator(testGene,20,verbose=1), dst=None, alpha=0, beta=255, norm_type=cv2.NORM_MINMAX, dtype=cv2.CV_8U)\n",
    "saveResult(\"data/test\", results)"
   ]
  },
  {
   "cell_type": "code",
   "execution_count": null,
   "metadata": {},
   "outputs": [],
   "source": []
  }
 ]
}