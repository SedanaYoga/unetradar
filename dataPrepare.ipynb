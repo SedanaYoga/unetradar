{
 "cells": [
  {
   "cell_type": "code",
   "execution_count": 1,
   "metadata": {},
   "outputs": [
    {
     "output_type": "stream",
     "name": "stderr",
     "text": "Using TensorFlow backend.\n"
    }
   ],
   "source": [
    "from data import *"
   ]
  },
  {
   "cell_type": "markdown",
   "metadata": {},
   "source": [
    "# Data Augmentasi\n",
    "\n",
    "Pembuatan data augmentasi menggunakan library **keras.preprocessing.image.ImageDataGenerator** yang bisa menggabungkan Deep Neural Network image dan label secara bersamaan."
   ]
  },
  {
   "cell_type": "markdown",
   "metadata": {},
   "source": [
    "## Tentukan parameter data generator\n",
    "Gunakan parameter dengan metode random dictionary seperti dibawah ini."
   ]
  },
  {
   "cell_type": "code",
   "execution_count": 2,
   "metadata": {},
   "outputs": [],
   "source": [
    "data_gen_args = dict(rotation_range = 0.05,\n",
    "                    width_shift_range = 0.01,\n",
    "                    height_shift_range = 0.01,\n",
    "                    shear_range = 0.05,\n",
    "                    zoom_range = 0.05,\n",
    "                    horizontal_flip = True,\n",
    "                    fill_mode = 'nearest')\n",
    "myGenerator = trainGenerator(600, 'data/train', 'image', 'label', data_gen_args, save_to_dir = \"data/train/aug\")"
   ]
  },
  {
   "cell_type": "markdown",
   "metadata": {},
   "source": [
    "## Membuat data augmentasi ke folder **'data/train/aug/'**"
   ]
  },
  {
   "cell_type": "code",
   "execution_count": 3,
   "metadata": {},
   "outputs": [
    {
     "name": "stdout",
     "output_type": "stream",
     "text": "Found 600 images belonging to 1 classes.\nFound 600 images belonging to 1 classes.\n0\n1\n"
    }
   ],
   "source": [
    "num_batch = 2\n",
    "for i, batch in enumerate(myGenerator):\n",
    "    print(i)\n",
    "    if(i>=(num_batch-1)):\n",
    "        break"
   ]
  },
  {
   "cell_type": "markdown",
   "metadata": {},
   "source": [
    "## Membuat .npy data (data augmentasi yang sudah dikompres)\n",
    "Butuh memori tambahan untuk menyimpan data ini"
   ]
  },
  {
   "cell_type": "code",
   "execution_count": 4,
   "metadata": {},
   "outputs": [],
   "source": [
    "image_arr,mask_arr = geneTrainNpy(\"data/train/aug/\",\"data/train/aug/\")\n",
    "np.save(\"data/image_arr.npy\",image_arr)\n",
    "np.save(\"data/mask_arr.npy\",mask_arr)"
   ]
  },
  {
   "cell_type": "markdown",
   "metadata": {},
   "source": [
    "## Masking Test Data"
   ]
  },
  {
   "cell_type": "code",
   "execution_count": 2,
   "metadata": {},
   "outputs": [],
   "source": [
    "def masking(img, mask, height=512, width=470, color = yellow): #GE 432 532\n",
    "    '''.'''\n",
    "    mask_out = np.zeros((512, 470, 3), dtype = 'uint8') #phantom\n",
    "    #mask_out = np.zeros((height, width, 3), dtype = 'uint8') #GE\n",
    "    #img = cv2.cvtColor(img, cv2.COLOR_GRAY2BGR) #kalau shapenya (432,532) atau grayscale \n",
    "    img = np.zeros((height, width, 3), dtype = 'uint8') \n",
    "    for i in range(mask.shape[0]-1):\n",
    "        for j in range(mask.shape[1]-1):\n",
    "            if (mask[i,j] >= 30):\n",
    "                mask_out[i,j,:] = mask[i,j] \n",
    "                mask_out[i,j,:] = color\n",
    "                img[i,j,:] = mask_out[i,j,:]\n",
    "    segmented = img\n",
    "    return segmented"
   ]
  },
  {
   "cell_type": "code",
   "execution_count": 4,
   "metadata": {},
   "outputs": [
    {
     "output_type": "stream",
     "name": "stdout",
     "text": "Creating... data/test-phantom/161_predict.png\nCreating... data/test-phantom/162_predict.png\nCreating... data/test-phantom/163_predict.png\nCreating... data/test-phantom/164_predict.png\nCreating... data/test-phantom/165_predict.png\nCreating... data/test-phantom/166_predict.png\n"
    }
   ],
   "source": [
    "import os\n",
    "from os import listdir\n",
    "from skimage import io\n",
    "from IPython.display import clear_output\n",
    "\n",
    "results_path = 'data/test-phantom/'\n",
    "results_results = 'results/'\n",
    "list_file = os.listdir(results_path)\n",
    "masked = np.zeros((len(list_file)//2, 512, 470, 3), dtype ='uint8') #GE 432 532\n",
    "\n",
    "for i in range(len(list_file)//2):\n",
    "    #masked[i] = masking(np.zeros((432, 532, 3), dtype = 'uint8'), io.imread(results_path+str(i)+'_predict.png'), color = white)\n",
    "    masked[i] = masking(io.imread(results_path+str(i)+'.png'), io.imread(results_path+str(i)+'_predict.png'), color = white)\n",
    "    if (i % 10 == 0):\n",
    "        clear_output(wait=True)\n",
    "    else:\n",
    "        print('Creating... ' + results_path+str(i)+'_predict.png')\n",
    "\n",
    "    io.imsave(os.path.join(results_results,\"%d.png\"%i), masked[i])"
   ]
  },
  {
   "cell_type": "markdown",
   "metadata": {},
   "source": [
    "# CARA CONVERT PNG TO MP4"
   ]
  },
  {
   "cell_type": "code",
   "execution_count": null,
   "metadata": {},
   "outputs": [],
   "source": [
    "ffmpeg -r 30 -f image2 -i %d.png -vcodec libx264 -crf 15  -pix_fmt yuv420p test.mp4"
   ]
  },
  {
   "cell_type": "markdown",
   "metadata": {},
   "source": [
    "# CARA MENGGABUNGKAN 2 VIDEO YANG SAMA"
   ]
  },
  {
   "cell_type": "code",
   "execution_count": null,
   "metadata": {},
   "outputs": [],
   "source": [
    "ffmpeg -i Yoga60.avi -i aqua.mp4 -filter_complex \"[0:v]pad=iw*2:ih[int]; [int][1:v]overlay=W/2:0[vid]\" -map \"[vid]\" -c:v libx264 -crf 15 output2.mp4"
   ]
  },
  {
   "cell_type": "code",
   "execution_count": null,
   "metadata": {},
   "outputs": [],
   "source": []
  },
  {
   "cell_type": "markdown",
   "metadata": {},
   "source": [
    "## DICE SIMILARITY COEFFICIENT"
   ]
  },
  {
   "cell_type": "code",
   "execution_count": 2,
   "metadata": {},
   "outputs": [],
   "source": [
    "def dice(im1, im2, empty_score=1.0):\n",
    "    \"\"\"\n",
    "    Computes the Dice coefficient, a measure of set similarity.\n",
    "    Parameters\n",
    "    ----------\n",
    "    im1 : array-like, bool\n",
    "        Any array of arbitrary size. If not boolean, will be converted.\n",
    "    im2 : array-like, bool\n",
    "        Any other array of identical size. If not boolean, will be converted.\n",
    "    Returns\n",
    "    -------\n",
    "    dice : float\n",
    "        Dice coefficient as a float on range [0,1].\n",
    "        Maximum similarity = 1\n",
    "        No similarity = 0\n",
    "        Both are empty (sum eq to zero) = empty_score\n",
    "        \n",
    "    Notes\n",
    "    -----\n",
    "    The order of inputs for `dice` is irrelevant. The result will be\n",
    "    identical if `im1` and `im2` are switched.\n",
    "    \"\"\"\n",
    "    im1 = np.asarray(im1).astype(np.bool)\n",
    "    im2 = np.asarray(im2).astype(np.bool)\n",
    "\n",
    "    if im1.shape != im2.shape:\n",
    "        raise ValueError(\"Shape mismatch: im1 and im2 must have the same shape.\")\n",
    "\n",
    "    im_sum = im1.sum() + im2.sum()\n",
    "    if im_sum == 0:\n",
    "        return empty_score\n",
    "\n",
    "    # Compute Dice coefficient\n",
    "    intersection = np.logical_and(im1, im2)\n",
    "\n",
    "    return 2. * intersection.sum() / im_sum"
   ]
  },
  {
   "cell_type": "code",
   "execution_count": 4,
   "metadata": {},
   "outputs": [
    {
     "output_type": "stream",
     "name": "stdout",
     "text": "0 0.5786037167252637\n1 0.568561872909699\n2 0.5670654110460677\n3 0.6936148300720907\n4 0.78994708994709\n5 0.8595431871882384\n6 0.9094240837696335\n7 0.9388180161416297\n8 0.9383047210300429\n9 0.9394998655552568\n10 0.9530799475753604\n11 0.9403973509933775\n12 0.9393787575150301\n13 0.9341603053435115\n14 0.9453049370764763\n15 0.94018296973962\n16 0.9422521655437921\n17 0.9504015115729806\n18 0.9448893075836081\n19 0.9483793517406963\n20 0.9414906530711338\n21 0.9557781578304422\n22 0.9395672718229297\n23 0.9275981832754475\n24 0.9435870143693454\n25 0.9448147160757131\n26 0.9429413340476829\n27 0.9502053388090349\n28 0.9129389129389129\n29 0.9185875429131928\n30 0.9069432440218957\n31 0.9380795692491773\n32 0.8997059784384188\n33 0.8677711784932791\n34 0.8244416873449132\n35 0.9136913129041327\n36 0.9213071895424837\n37 0.9251170046801872\n38 0.9168621318738598\n39 0.893143596377749\n40 0.8792517006802721\n41 0.9308909242298085\n42 0.912549687677456\n43 0.9313609467455621\n44 0.9546682677874512\n45 0.9398092967818832\n46 0.9281288723667905\n47 0.9452968645763843\n48 0.90499306518724\n49 0.9044368600682594\n50 0.916051040967092\n51 0.9176079734219269\n52 0.8888888888888888\n53 0.9460030165912519\n54 0.9299562226391495\n55 0.8818498574596135\n56 0.9115958668197475\n57 0.9234842467566852\n58 0.9009798865394534\n59 0.8987068965517241\n60 0.9018924302788844\n61 0.9260893546607832\n62 0.923982869379015\n63 0.9360859728506787\n64 0.9289871944121071\n65 0.9211837093466159\n66 0.9469762109486959\n670.9432440218957073\n68 0.9378746594005449\n69 0.9077555816686251\n70 0.9470945359930616\n71 0.9218344389962504\n72 0.9262685730305579\n73 0.9394273127753304\n74 0.9597826086956521\n75 0.9244565217391304\n76 0.933724627048178\n77 0.939311369829081\n78 0.9231167486409526\n79 0.934266433391652\n80 0.9473415132924335\n81 0.9564738292011019\n82 0.949671772428884\n83 0.9285714285714286\n84 0.9242849130678632\n85 0.933589462129528\n86 0.922425952045134\n87 0.6858288770053476\n88 0.8972879399884593\n89 0.8807491049297714\n90 0.7658884565499352\n91 0.9509981851179673\n92 0.9508360369353631\n93 0.9450222882615156\n94 0.9489427539969056\n95 0.9484989016353429\n96 0.9533865567859903\n97 0.9499615088529638\n98 0.9529733764618065\n99 0.9349049022234128\n100 0.8812241923730872\n101 0.931025155531512\n102 0.928222279392848\n103 0.9469328140214216\n104 0.9168098159509203\n105 0.9345282549166044\n106 0.9240152477763659\n107 0.9359900373599004\n108 0.9585941261434762\n109 0.9503953989935299\n110 0.9483901515151515\n111 0.9326599326599326\n112 0.897342365815529\n113 0.9162685441287403\n114 0.9055526725480021\n115 0.9353233830845771\n116 0.9361272405958091\n117 0.9459459459459459\n118 0.9296148738379814\n119 0.9166190748143918\n120 0.9299401197604791\n121 0.9295193158360365\n122 0.9176854115729421\n123 0.9298293145489027\n124 0.9201117318435754\n125 0.9093895428415001\n126 0.9316702819956616\n127 0.921978021978022\n128 0.9409090909090909\n129 0.9268702717848136\n130 0.9173014145810664\n131 0.9114277731209836\n132 0.9186246418338109\n133 0.9259896729776248\n134 0.8840012051822839\n135 0.9261025029797377\n136 0.9273395532937517\n137 0.9210829493087558\n138 0.9146205357142857\n139 0.9231177094379639\n140 0.9193205944798302\n141 0.909957627118644\n142 0.9200863930885529\n143 0.9085002707092582\n144 0.9232415084247125\n145 0.9252889765999436\n146 0.9107692307692308\n147 0.921306209850107\n148 0.9339095068632435\n149 0.9296935359258306\n150 0.9540372670807453\n151 0.9521331945889698\n152 0.9339717741935484\n153 0.9237875288683602\n154 0.9189453125\n155 0.9299301709607513\n156 0.9334326875310481\n1570.9407960199004975\n158 0.9356460532931121\n159 0.9374540103016924\n160 0.9420754251910278\n161 0.9424034131310737\n162 0.9386195366610939\n163 0.948743223262691\n164 0.9401534526854219\n165 0.9404322614654718\n166 0.9407035175879397\n167 0.9350583460172501\n168 0.9425117197137922\n169 0.9350584722567803\n170 0.9435585927613263\n171 0.9510829885616938\n172 0.9417596034696406\n173 0.937643166200051\n174 0.9318476289194092\n175 0.9548316452231043\n176 0.9283923098356088\n177 0.9478758662247665\n178 0.9355026147588611\n179 0.9301121656600517\n180 0.9291833238149628\n181 0.9301272984441301\n182 0.9313669880884855\n183 0.9334855837853269\n184 0.9202453987730062\n185 0.8879668049792531\n186 0.7650382186773014\n187 0.5637735849056604\n188 0.7358430876304967\n189 0.6983311938382541\n190 0.8009259259259259\n191 0.7228327228327228\n192 0.8882368631635102\n193 0.9084210526315789\n194 0.9279373368146214\n195 0.9306673591274993\n196 0.928016571724495\n197 0.926255230125523\n198 0.9244744355048015\n199 0.9046235138705416\n200 0.878341516639389\n201 0.8927015250544662\n202 0.8888272802883282\n203 0.8893109061313077\n204 0.8694214876033057\n205 0.8698685269653877\n206 0.9029535864978903\n207 0.9146307987922042\n208 0.9320843091334895\n209 0.9213281483697278\n210 0.9317577548005909\n211 0.9211136890951276\n212 0.918204351418342\n213 0.9140171412773016\n214 0.934323243860651\n215 0.936778449697636\n216 0.9349112426035503\n217 0.9415073115860517\n218 0.9448996891777338\n219 0.9400286944045911\n220 0.9366423357664233\n221 0.9420246320216281\n222 0.937125748502994\n223 0.9360430364614465\n224 0.9342457601904195\n225 0.934763181411975\n226 0.9358823529411765\n227 0.9401110137306457\n228 0.9399942578237152\n229 0.9426605504587156\n230 0.9423631123919308\n231 0.9411764705882353\n232 0.937890044576523\n233 0.9382640586797066\n234 0.9381953028430161\n235 0.928679817905918\n236 0.9290631547440886\n237 0.9344035427622475\n\n0.9141926119653225\n"
    }
   ],
   "source": [
    "import os\n",
    "from os import listdir\n",
    "from skimage import io\n",
    "from IPython.display import clear_output\n",
    "\n",
    "path_predict = './results/result threshold 220/'\n",
    "path_acuan = './data/Ground Truth/'\n",
    "\n",
    "list_predict = os.listdir(path_predict)\n",
    "list_acuan = os.listdir(path_acuan)\n",
    "dsc = np.zeros(len(list_predict), dtype = float)\n",
    "temp = 0\n",
    "\n",
    "for i in range(len(list_predict)):\n",
    "    img1 = cv2.cvtColor(cv2.imread(path_predict+str(i)+'.png'), cv2.COLOR_RGB2GRAY)\n",
    "    img2 = cv2.cvtColor(cv2.imread(path_acuan+str(i)+'.png'), cv2.COLOR_RGB2GRAY)\n",
    "    dsc[i] = dice(img1, img2)\n",
    "    temp = temp + dsc[i]\n",
    "    print(i, dsc[i])\n",
    "hasil = temp/len(list_predict)\n",
    "print()\n",
    "print(hasil)"
   ]
  },
  {
   "cell_type": "markdown",
   "metadata": {},
   "source": [
    "## JACCARD SIMILARITY COEFFICIENT"
   ]
  },
  {
   "cell_type": "code",
   "execution_count": 16,
   "metadata": {},
   "outputs": [],
   "source": [
    "import numpy as np\n",
    "\n",
    "\n",
    "def jaccard(im1, im2):\n",
    "    \"\"\"\n",
    "    Computes the Jaccard metric, a measure of set similarity.\n",
    "    Parameters\n",
    "    ----------\n",
    "    im1 : array-like, bool\n",
    "        Any array of arbitrary size. If not boolean, will be converted.\n",
    "    im2 : array-like, bool\n",
    "        Any other array of identical size. If not boolean, will be converted.\n",
    "    Returns\n",
    "    -------\n",
    "    jaccard : float\n",
    "        Jaccard metric returned is a float on range [0,1].\n",
    "        Maximum similarity = 1\n",
    "        No similarity = 0\n",
    "    \n",
    "    Notes\n",
    "    -----\n",
    "    The order of inputs for `jaccard` is irrelevant. The result will be\n",
    "    identical if `im1` and `im2` are switched.\n",
    "    \"\"\"\n",
    "    im1 = np.asarray(im1).astype(np.bool)\n",
    "    im2 = np.asarray(im2).astype(np.bool)\n",
    "\n",
    "    if im1.shape != im2.shape:\n",
    "        raise ValueError(\"Shape mismatch: im1 and im2 must have the same shape.\")\n",
    "    \n",
    "    intersection = np.logical_and(im1, im2)\n",
    "\n",
    "    union = np.logical_or(im1, im2)\n",
    "\n",
    "    return intersection.sum() / float(union.sum())"
   ]
  },
  {
   "cell_type": "code",
   "execution_count": 17,
   "metadata": {},
   "outputs": [
    {
     "output_type": "stream",
     "name": "stdout",
     "text": "0.9371651545218203\n"
    }
   ],
   "source": [
    "import os\n",
    "from os import listdir\n",
    "from skimage import io\n",
    "from IPython.display import clear_output\n",
    "\n",
    "path_predict = './results/result phantom/'\n",
    "path_acuan = './data/Ground Truth Phantom/'\n",
    "\n",
    "list_predict = os.listdir(path_predict)\n",
    "list_acuan = os.listdir(path_acuan)\n",
    "dsc = np.zeros(len(list_predict), dtype = float)\n",
    "temp = 0\n",
    "\n",
    "for i in range(len(list_predict)-1):\n",
    "    img1 = cv2.cvtColor(cv2.imread(path_predict+str(i)+'.png'), cv2.COLOR_RGB2GRAY)\n",
    "    img2 = cv2.cvtColor(cv2.imread(path_acuan+str(i)+'.png'), cv2.COLOR_RGB2GRAY)\n",
    "    dsc[i] = jaccard(img1, img2)\n",
    "    temp = temp + dsc[i]\n",
    "    #print(dsc[i])\n",
    "hasil = temp/len(list_predict)\n",
    "print(hasil)"
   ]
  },
  {
   "cell_type": "markdown",
   "metadata": {},
   "source": [
    "## PIXEL DIFFERENCE"
   ]
  },
  {
   "cell_type": "code",
   "execution_count": 23,
   "metadata": {},
   "outputs": [
    {
     "output_type": "stream",
     "name": "stdout",
     "text": "0 14259 14751 0.034504523458868085\n1 14181 14688 0.03575206261899725\n2 14202 14673 0.03316434305027461\n3 14025 14475 0.03208556149732621\n4 13905 14415 0.036677454153182305\n5 14403 14763 0.024994792751510102\n6 14454 14916 0.0319634703196347\n7 13692 14025 0.02432077125328659\n8 13596 14130 0.03927625772285966\n9 13641 14268 0.045964372113481415\n10 13716 14016 0.021872265966754154\n11 13488 14325 0.062055160142348756\n12 12930 13356 0.032946635730858466\n13 12783 13176 0.030743956817648438\n14 12741 13161 0.03296444549093478\n15 12942 13284 0.02642559109874826\n16 12816 13251 0.03394194756554307\n17 12726 13089 0.028524280999528525\n18 12741 13074 0.026136096067812573\n19 12726 13053 0.025695426685525696\n20 12834 13293 0.03576437587657784\n21 12828 13179 0.02736202057998129\n22 12912 13320 0.031598513011152414\n23 13050 13476 0.03264367816091954\n24 13320 13737 0.031306306306306306\n25 13485 13944 0.03403781979977753\n26 13239 13659 0.031724450487196916\n27 13197 13572 0.028415548988406456\n28 13509 13884 0.027759271596713302\n29 13350 13953 0.045168539325842694\n30 13494 13983 0.036238328145842595\n31 13344 13764 0.03147482014388489\n32 13596 14181 0.04302736098852604\n33 13710 14106 0.02888402625820569\n34 13605 14187 0.042778390297684675\n35 13638 14160 0.03827540695116586\n36 13785 14433 0.0470076169749728\n37 13872 14514 0.046280276816609\n38 13722 14448 0.052907739396589416\n39 14256 14643 0.027146464646464648\n40 14037 14796 0.05407138277409703\n41 14067 14799 0.052036681595222865\n42 14157 14991 0.058910786183513454\n43 14265 14673 0.028601472134595164\n44 14523 15147 0.042966329270811815\n45 14187 14742 0.03912032142101924\n46 14232 15009 0.05459527824620573\n47 13920 14457 0.03857758620689655\n48 13680 14277 0.04364035087719298\n49 13452 14232 0.05798394290811775\n50 13701 14325 0.04554412086708999\n51 13776 14385 0.04420731707317073\n52 13731 14232 0.03648678173476076\n53 13872 14319 0.03222318339100346\n54 13482 14073 0.043836226079216736\n55 13410 14070 0.049217002237136466\n56 13869 14313 0.03201384382435648\n57 13545 13929 0.028349944629014398\n58 13518 13974 0.033732800710164226\n59 13755 14355 0.04362050163576881\n60 13824 14334 0.03689236111111111\n61 13740 14178 0.03187772925764192\n62 13737 14175 0.03188469098056344\n63 13734 14151 0.03036260375709917\n64 13311 13752 0.03313049357674104\n65 13818 14232 0.029960920538428137\n66 13536 13971 0.03213652482269504\n67 13623 14001 0.027747192248403437\n68 13593 13998 0.02979474729640256\n69 13731 14022 0.02119292112737601\n70 13362 13875 0.03839245621912887\n71 13452 13818 0.027207850133809098\n72 13695 14076 0.027820372398685653\n73 13776 14040 0.01916376306620209\n74 13653 13935 0.02065480114260602\n75 13638 14019 0.027936647602287725\n76 13551 14013 0.03409342483949524\n77 13422 13869 0.03330353151542244\n78 13248 13788 0.04076086956521739\n79 13029 13527 0.03822242689385218\n80 13044 13464 0.03219871205151794\n81 12795 13335 0.04220398593200469\n82 13155 13638 0.036716077537058155\n83 13671 13998 0.0239192451174018\n84 13413 13803 0.029076269290986355\n85 13182 13551 0.027992717341829766\n86 12951 13353 0.03104007412555015\n87 12654 13110 0.036036036036036036\n88 12861 13050 0.01469559132260322\n89 13227 13206 0.0015876616012701294\n90 13566 13353 0.015701017249004866\n91 12840 12969 0.010046728971962618\n92 13023 13401 0.02902557014512785\n93 12996 13338 0.02631578947368421\n94 13005 13290 0.02191464821222607\n95 13134 13431 0.022613065326633167\n96 13371 13569 0.014808166928427194\n97 13026 13428 0.030861354214647627\n98 12771 13257 0.03805496828752643\n99 13209 13545 0.025437201907790145\n100 13143 13425 0.02145628851860306\n101 13389 13500 0.008290387631637912\n102 13533 13605 0.005320328086898692\n103 13434 13788 0.026351049575703438\n104 13641 13965 0.023751924345722455\n105 13476 13845 0.027382012466607302\n106 13512 13917 0.02997335701598579\n107 13413 13854 0.03287855065980765\n108 13572 13731 0.011715296198054819\n109 13644 13677 0.002418645558487247\n110 13575 13566 0.0006629834254143647\n111 13767 13965 0.014382218348224014\n112 13563 13989 0.031408980314089806\n113 13437 13587 0.011163206072784104\n114 13503 13557 0.003999111308598089\n115 13605 13245 0.026460859977949284\n116 12756 13197 0.034571966133584195\n117 13395 13353 0.003135498320268757\n118 13551 14136 0.04317024573832189\n119 13686 14823 0.08307759754493643\n120 13548 16239 0.19862710363153233\n121 13617 17331 0.27274730116765805\n122 13731 16503 0.2018789600174787\n123 13728 14364 0.04632867132867133\n124 13275 13164 0.008361581920903955\n125 13923 13044 0.06313294548588666\n126 13263 13209 0.00407147704139335\n127 14106 13689 0.0295618885580604\n128 14310 13830 0.033542976939203356\n129 13707 13635 0.005252790544977019\n130 13731 13536 0.014201441992571553\n131 13413 13269 0.010735853276671885\n132 13059 12951 0.008270158511371467\n133 13353 13272 0.006066052572455628\n134 13530 13647 0.008647450110864745\n135 13752 13881 0.009380453752181502\n136 13776 14694 0.0666376306620209\n137 13710 14334 0.045514223194748356\n138 13521 14241 0.05325049922343022\n139 13611 12924 0.05047388141944016\n140 13554 13662 0.00796812749003984\n141 13758 14754 0.07239424334932403\n142 13794 16293 0.18116572422792518\n143 14010 15216 0.0860813704496788\n144 13548 13593 0.003321523472099203\n145 13803 12918 0.06411649641382308\n146 13494 12633 0.06380613606047132\n147 13797 12930 0.06283974777125462\n148 13740 12948 0.05764192139737991\n149 13485 12753 0.0542825361512792\n150 13416 12708 0.052772808586762074\n151 13527 12858 0.049456642271013526\n152 13599 12936 0.04875358482241341\n153 13506 13086 0.03109729009329187\n154 13500 13035 0.034444444444444444\n155 13674 13050 0.045634050021939446\n156 13548 13209 0.025022143489813995\n157 13443 13596 0.011381388083017184\n158 13218 13026 0.014525646845211076\n159 13281 12888 0.029591145245086967\n160 13206 12912 0.0222626079054975\n161 13257 12993 0.019914007694048427\n162 13317 12717 0.04505519261094841\n163 13263 12924 0.025559828093191586\n164 13434 12894 0.0401965163019205\n165 13422 12753 0.04984354045596781\n166 13344 12819 0.03934352517985611\n\n13825.580838323353 13511.712574850299 0.03700032018409971\n"
    }
   ],
   "source": [
    "import os\n",
    "from os import listdir\n",
    "from skimage import io\n",
    "import cv2\n",
    "import numpy as np \n",
    "import matplotlib.pyplot as plt \n",
    "\n",
    "path_predict = './results/result phantom/'\n",
    "path_acuan = './data/Ground Truth Phantom/'\n",
    "\n",
    "list_predict = os.listdir(path_predict)\n",
    "list_acuan = os.listdir(path_acuan)\n",
    "temp = 0\n",
    "aa = 0\n",
    "bb = 0\n",
    "for i in range(len(list_acuan)):\n",
    "    a = np.count_nonzero(cv2.imread(path_predict+str(i)+'.png')==255)\n",
    "    b = np.count_nonzero(cv2.imread(path_acuan+str(i)+'.png')==255)\n",
    "    avg = abs(a-b)/b\n",
    "    print(i, b, a, avg)\n",
    "    temp = temp + avg\n",
    "    aa = aa + a\n",
    "    bb = bb + b\n",
    "temp = temp/len(list_acuan)\n",
    "aa = aa/len(list_acuan)\n",
    "bb = bb/len(list_acuan)\n",
    "print()\n",
    "print(aa, bb, temp)"
   ]
  },
  {
   "cell_type": "code",
   "execution_count": null,
   "metadata": {},
   "outputs": [],
   "source": []
  }
 ],
 "metadata": {
  "language_info": {
   "name": "python",
   "codemirror_mode": {
    "name": "ipython",
    "version": 3
   },
   "version": "3.6.6-final"
  },
  "orig_nbformat": 2,
  "file_extension": ".py",
  "mimetype": "text/x-python",
  "name": "python",
  "npconvert_exporter": "python",
  "pygments_lexer": "ipython3",
  "version": 3,
  "kernelspec": {
   "name": "python36664bit20e9155409db4a5daee3dd105c2673f5",
   "display_name": "Python 3.6.6 64-bit"
  }
 },
 "nbformat": 4,
 "nbformat_minor": 2
}