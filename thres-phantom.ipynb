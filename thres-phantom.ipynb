{
 "cells": [
  {
   "cell_type": "code",
   "execution_count": 1,
   "metadata": {},
   "outputs": [
    {
     "output_type": "stream",
     "name": "stdout",
     "text": "[]\n"
    }
   ],
   "source": [
    "import os\n",
    "from os import listdir\n",
    "import cv2\n",
    "import numpy as np \n",
    "from natsort import natsorted, ns\n",
    "import glob\n",
    "import matplotlib.pyplot as plt\n",
    "from skimage import io\n",
    "from skimage import color\n",
    "from scipy import ndimage, misc\n",
    "from skimage import exposure\n",
    "from scipy.ndimage import gaussian_filter\n",
    "\n",
    "data_path = './data/test-phantom/'\n",
    "file_path = glob.glob(data_path + '*png')\n",
    "list_data = os.listdir(data_path)\n",
    "filenames = natsorted(file_path, key = lambda y : y.lower())\n",
    "print(filenames)"
   ]
  },
  {
   "cell_type": "code",
   "execution_count": null,
   "metadata": {},
   "outputs": [],
   "source": []
  }
 ],
 "metadata": {
  "language_info": {
   "codemirror_mode": {
    "name": "ipython",
    "version": 3
   },
   "file_extension": ".py",
   "mimetype": "text/x-python",
   "name": "python",
   "nbconvert_exporter": "python",
   "pygments_lexer": "ipython3",
   "version": "3.6.6-final"
  },
  "orig_nbformat": 2,
  "kernelspec": {
   "name": "python36664bit20e9155409db4a5daee3dd105c2673f5",
   "display_name": "Python 3.6.6 64-bit"
  }
 },
 "nbformat": 4,
 "nbformat_minor": 2
}